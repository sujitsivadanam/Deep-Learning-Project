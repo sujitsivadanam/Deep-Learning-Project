{
  "nbformat": 4,
  "nbformat_minor": 0,
  "metadata": {
    "colab": {
      "provenance": [],
      "gpuType": "T4"
    },
    "kernelspec": {
      "name": "python3",
      "display_name": "Python 3"
    },
    "language_info": {
      "name": "python"
    },
    "accelerator": "GPU"
  },
  "cells": [
    {
      "cell_type": "markdown",
      "source": [
        "**Data Exploration**"
      ],
      "metadata": {
        "id": "z7LQrbufjeEb"
      }
    },
    {
      "cell_type": "code",
      "execution_count": null,
      "metadata": {
        "id": "FF8UOBGEjJ3Z",
        "colab": {
          "base_uri": "https://localhost:8080/",
          "height": 226
        },
        "outputId": "6a11f7bc-268b-498f-d712-880ff3f4970e"
      },
      "outputs": [
        {
          "output_type": "execute_result",
          "data": {
            "text/plain": [
              "   Season      GameID  Drive  n.sacks  n.completions  n.incompletions  \\\n",
              "0    2009  2009091000      1        0              1                0   \n",
              "1    2009  2009091000      2        0              1                0   \n",
              "2    2009  2009091000      3        1              3                0   \n",
              "3    2009  2009091000      4        0              1                0   \n",
              "4    2009  2009091000      5        1              0                0   \n",
              "\n",
              "   n.stuffed.runs  n.positive.runs  n.negative.plays  n.fumbles  \\\n",
              "0               1                0                 1          0   \n",
              "1               2                0                 1          0   \n",
              "2               1                0                 2          0   \n",
              "3               0                2                 0          0   \n",
              "4               0                2                 1          0   \n",
              "\n",
              "   first.downs.gained  third.downs.converted  takeaway.nonscore  \\\n",
              "0                   0                      0                0.0   \n",
              "1                   0                      0                0.0   \n",
              "2                   1                      0                0.0   \n",
              "3                   2                      0                0.0   \n",
              "4                   0                      0                0.0   \n",
              "\n",
              "   turnover.nonscore  punt.safety  pts.scored  ST.return.yards.net  \\\n",
              "0                0.0            1           0                 24.0   \n",
              "1                0.0            1           0                 -2.0   \n",
              "2                0.0            1           0                -19.0   \n",
              "3                1.0            0           0                 37.0   \n",
              "4                0.0            1           0                 -9.0   \n",
              "\n",
              "   off.ST.start.pos  off.ST.yards.gained  \n",
              "0              58.0                 48.0  \n",
              "1              98.0                 -4.0  \n",
              "2              43.0                -38.0  \n",
              "3              89.0                107.0  \n",
              "4              73.0                -18.0  "
            ],
            "text/html": [
              "\n",
              "  <div id=\"df-e8b02bf5-654d-407b-ad4c-56c70298bfa5\" class=\"colab-df-container\">\n",
              "    <div>\n",
              "<style scoped>\n",
              "    .dataframe tbody tr th:only-of-type {\n",
              "        vertical-align: middle;\n",
              "    }\n",
              "\n",
              "    .dataframe tbody tr th {\n",
              "        vertical-align: top;\n",
              "    }\n",
              "\n",
              "    .dataframe thead th {\n",
              "        text-align: right;\n",
              "    }\n",
              "</style>\n",
              "<table border=\"1\" class=\"dataframe\">\n",
              "  <thead>\n",
              "    <tr style=\"text-align: right;\">\n",
              "      <th></th>\n",
              "      <th>Season</th>\n",
              "      <th>GameID</th>\n",
              "      <th>Drive</th>\n",
              "      <th>n.sacks</th>\n",
              "      <th>n.completions</th>\n",
              "      <th>n.incompletions</th>\n",
              "      <th>n.stuffed.runs</th>\n",
              "      <th>n.positive.runs</th>\n",
              "      <th>n.negative.plays</th>\n",
              "      <th>n.fumbles</th>\n",
              "      <th>first.downs.gained</th>\n",
              "      <th>third.downs.converted</th>\n",
              "      <th>takeaway.nonscore</th>\n",
              "      <th>turnover.nonscore</th>\n",
              "      <th>punt.safety</th>\n",
              "      <th>pts.scored</th>\n",
              "      <th>ST.return.yards.net</th>\n",
              "      <th>off.ST.start.pos</th>\n",
              "      <th>off.ST.yards.gained</th>\n",
              "    </tr>\n",
              "  </thead>\n",
              "  <tbody>\n",
              "    <tr>\n",
              "      <th>0</th>\n",
              "      <td>2009</td>\n",
              "      <td>2009091000</td>\n",
              "      <td>1</td>\n",
              "      <td>0</td>\n",
              "      <td>1</td>\n",
              "      <td>0</td>\n",
              "      <td>1</td>\n",
              "      <td>0</td>\n",
              "      <td>1</td>\n",
              "      <td>0</td>\n",
              "      <td>0</td>\n",
              "      <td>0</td>\n",
              "      <td>0.0</td>\n",
              "      <td>0.0</td>\n",
              "      <td>1</td>\n",
              "      <td>0</td>\n",
              "      <td>24.0</td>\n",
              "      <td>58.0</td>\n",
              "      <td>48.0</td>\n",
              "    </tr>\n",
              "    <tr>\n",
              "      <th>1</th>\n",
              "      <td>2009</td>\n",
              "      <td>2009091000</td>\n",
              "      <td>2</td>\n",
              "      <td>0</td>\n",
              "      <td>1</td>\n",
              "      <td>0</td>\n",
              "      <td>2</td>\n",
              "      <td>0</td>\n",
              "      <td>1</td>\n",
              "      <td>0</td>\n",
              "      <td>0</td>\n",
              "      <td>0</td>\n",
              "      <td>0.0</td>\n",
              "      <td>0.0</td>\n",
              "      <td>1</td>\n",
              "      <td>0</td>\n",
              "      <td>-2.0</td>\n",
              "      <td>98.0</td>\n",
              "      <td>-4.0</td>\n",
              "    </tr>\n",
              "    <tr>\n",
              "      <th>2</th>\n",
              "      <td>2009</td>\n",
              "      <td>2009091000</td>\n",
              "      <td>3</td>\n",
              "      <td>1</td>\n",
              "      <td>3</td>\n",
              "      <td>0</td>\n",
              "      <td>1</td>\n",
              "      <td>0</td>\n",
              "      <td>2</td>\n",
              "      <td>0</td>\n",
              "      <td>1</td>\n",
              "      <td>0</td>\n",
              "      <td>0.0</td>\n",
              "      <td>0.0</td>\n",
              "      <td>1</td>\n",
              "      <td>0</td>\n",
              "      <td>-19.0</td>\n",
              "      <td>43.0</td>\n",
              "      <td>-38.0</td>\n",
              "    </tr>\n",
              "    <tr>\n",
              "      <th>3</th>\n",
              "      <td>2009</td>\n",
              "      <td>2009091000</td>\n",
              "      <td>4</td>\n",
              "      <td>0</td>\n",
              "      <td>1</td>\n",
              "      <td>0</td>\n",
              "      <td>0</td>\n",
              "      <td>2</td>\n",
              "      <td>0</td>\n",
              "      <td>0</td>\n",
              "      <td>2</td>\n",
              "      <td>0</td>\n",
              "      <td>0.0</td>\n",
              "      <td>1.0</td>\n",
              "      <td>0</td>\n",
              "      <td>0</td>\n",
              "      <td>37.0</td>\n",
              "      <td>89.0</td>\n",
              "      <td>107.0</td>\n",
              "    </tr>\n",
              "    <tr>\n",
              "      <th>4</th>\n",
              "      <td>2009</td>\n",
              "      <td>2009091000</td>\n",
              "      <td>5</td>\n",
              "      <td>1</td>\n",
              "      <td>0</td>\n",
              "      <td>0</td>\n",
              "      <td>0</td>\n",
              "      <td>2</td>\n",
              "      <td>1</td>\n",
              "      <td>0</td>\n",
              "      <td>0</td>\n",
              "      <td>0</td>\n",
              "      <td>0.0</td>\n",
              "      <td>0.0</td>\n",
              "      <td>1</td>\n",
              "      <td>0</td>\n",
              "      <td>-9.0</td>\n",
              "      <td>73.0</td>\n",
              "      <td>-18.0</td>\n",
              "    </tr>\n",
              "  </tbody>\n",
              "</table>\n",
              "</div>\n",
              "    <div class=\"colab-df-buttons\">\n",
              "\n",
              "  <div class=\"colab-df-container\">\n",
              "    <button class=\"colab-df-convert\" onclick=\"convertToInteractive('df-e8b02bf5-654d-407b-ad4c-56c70298bfa5')\"\n",
              "            title=\"Convert this dataframe to an interactive table.\"\n",
              "            style=\"display:none;\">\n",
              "\n",
              "  <svg xmlns=\"http://www.w3.org/2000/svg\" height=\"24px\" viewBox=\"0 -960 960 960\">\n",
              "    <path d=\"M120-120v-720h720v720H120Zm60-500h600v-160H180v160Zm220 220h160v-160H400v160Zm0 220h160v-160H400v160ZM180-400h160v-160H180v160Zm440 0h160v-160H620v160ZM180-180h160v-160H180v160Zm440 0h160v-160H620v160Z\"/>\n",
              "  </svg>\n",
              "    </button>\n",
              "\n",
              "  <style>\n",
              "    .colab-df-container {\n",
              "      display:flex;\n",
              "      gap: 12px;\n",
              "    }\n",
              "\n",
              "    .colab-df-convert {\n",
              "      background-color: #E8F0FE;\n",
              "      border: none;\n",
              "      border-radius: 50%;\n",
              "      cursor: pointer;\n",
              "      display: none;\n",
              "      fill: #1967D2;\n",
              "      height: 32px;\n",
              "      padding: 0 0 0 0;\n",
              "      width: 32px;\n",
              "    }\n",
              "\n",
              "    .colab-df-convert:hover {\n",
              "      background-color: #E2EBFA;\n",
              "      box-shadow: 0px 1px 2px rgba(60, 64, 67, 0.3), 0px 1px 3px 1px rgba(60, 64, 67, 0.15);\n",
              "      fill: #174EA6;\n",
              "    }\n",
              "\n",
              "    .colab-df-buttons div {\n",
              "      margin-bottom: 4px;\n",
              "    }\n",
              "\n",
              "    [theme=dark] .colab-df-convert {\n",
              "      background-color: #3B4455;\n",
              "      fill: #D2E3FC;\n",
              "    }\n",
              "\n",
              "    [theme=dark] .colab-df-convert:hover {\n",
              "      background-color: #434B5C;\n",
              "      box-shadow: 0px 1px 3px 1px rgba(0, 0, 0, 0.15);\n",
              "      filter: drop-shadow(0px 1px 2px rgba(0, 0, 0, 0.3));\n",
              "      fill: #FFFFFF;\n",
              "    }\n",
              "  </style>\n",
              "\n",
              "    <script>\n",
              "      const buttonEl =\n",
              "        document.querySelector('#df-e8b02bf5-654d-407b-ad4c-56c70298bfa5 button.colab-df-convert');\n",
              "      buttonEl.style.display =\n",
              "        google.colab.kernel.accessAllowed ? 'block' : 'none';\n",
              "\n",
              "      async function convertToInteractive(key) {\n",
              "        const element = document.querySelector('#df-e8b02bf5-654d-407b-ad4c-56c70298bfa5');\n",
              "        const dataTable =\n",
              "          await google.colab.kernel.invokeFunction('convertToInteractive',\n",
              "                                                    [key], {});\n",
              "        if (!dataTable) return;\n",
              "\n",
              "        const docLinkHtml = 'Like what you see? Visit the ' +\n",
              "          '<a target=\"_blank\" href=https://colab.research.google.com/notebooks/data_table.ipynb>data table notebook</a>'\n",
              "          + ' to learn more about interactive tables.';\n",
              "        element.innerHTML = '';\n",
              "        dataTable['output_type'] = 'display_data';\n",
              "        await google.colab.output.renderOutput(dataTable, element);\n",
              "        const docLink = document.createElement('div');\n",
              "        docLink.innerHTML = docLinkHtml;\n",
              "        element.appendChild(docLink);\n",
              "      }\n",
              "    </script>\n",
              "  </div>\n",
              "\n",
              "\n",
              "<div id=\"df-11ecbf72-f28f-4670-9502-c51bcd6bd838\">\n",
              "  <button class=\"colab-df-quickchart\" onclick=\"quickchart('df-11ecbf72-f28f-4670-9502-c51bcd6bd838')\"\n",
              "            title=\"Suggest charts\"\n",
              "            style=\"display:none;\">\n",
              "\n",
              "<svg xmlns=\"http://www.w3.org/2000/svg\" height=\"24px\"viewBox=\"0 0 24 24\"\n",
              "     width=\"24px\">\n",
              "    <g>\n",
              "        <path d=\"M19 3H5c-1.1 0-2 .9-2 2v14c0 1.1.9 2 2 2h14c1.1 0 2-.9 2-2V5c0-1.1-.9-2-2-2zM9 17H7v-7h2v7zm4 0h-2V7h2v10zm4 0h-2v-4h2v4z\"/>\n",
              "    </g>\n",
              "</svg>\n",
              "  </button>\n",
              "\n",
              "<style>\n",
              "  .colab-df-quickchart {\n",
              "      --bg-color: #E8F0FE;\n",
              "      --fill-color: #1967D2;\n",
              "      --hover-bg-color: #E2EBFA;\n",
              "      --hover-fill-color: #174EA6;\n",
              "      --disabled-fill-color: #AAA;\n",
              "      --disabled-bg-color: #DDD;\n",
              "  }\n",
              "\n",
              "  [theme=dark] .colab-df-quickchart {\n",
              "      --bg-color: #3B4455;\n",
              "      --fill-color: #D2E3FC;\n",
              "      --hover-bg-color: #434B5C;\n",
              "      --hover-fill-color: #FFFFFF;\n",
              "      --disabled-bg-color: #3B4455;\n",
              "      --disabled-fill-color: #666;\n",
              "  }\n",
              "\n",
              "  .colab-df-quickchart {\n",
              "    background-color: var(--bg-color);\n",
              "    border: none;\n",
              "    border-radius: 50%;\n",
              "    cursor: pointer;\n",
              "    display: none;\n",
              "    fill: var(--fill-color);\n",
              "    height: 32px;\n",
              "    padding: 0;\n",
              "    width: 32px;\n",
              "  }\n",
              "\n",
              "  .colab-df-quickchart:hover {\n",
              "    background-color: var(--hover-bg-color);\n",
              "    box-shadow: 0 1px 2px rgba(60, 64, 67, 0.3), 0 1px 3px 1px rgba(60, 64, 67, 0.15);\n",
              "    fill: var(--button-hover-fill-color);\n",
              "  }\n",
              "\n",
              "  .colab-df-quickchart-complete:disabled,\n",
              "  .colab-df-quickchart-complete:disabled:hover {\n",
              "    background-color: var(--disabled-bg-color);\n",
              "    fill: var(--disabled-fill-color);\n",
              "    box-shadow: none;\n",
              "  }\n",
              "\n",
              "  .colab-df-spinner {\n",
              "    border: 2px solid var(--fill-color);\n",
              "    border-color: transparent;\n",
              "    border-bottom-color: var(--fill-color);\n",
              "    animation:\n",
              "      spin 1s steps(1) infinite;\n",
              "  }\n",
              "\n",
              "  @keyframes spin {\n",
              "    0% {\n",
              "      border-color: transparent;\n",
              "      border-bottom-color: var(--fill-color);\n",
              "      border-left-color: var(--fill-color);\n",
              "    }\n",
              "    20% {\n",
              "      border-color: transparent;\n",
              "      border-left-color: var(--fill-color);\n",
              "      border-top-color: var(--fill-color);\n",
              "    }\n",
              "    30% {\n",
              "      border-color: transparent;\n",
              "      border-left-color: var(--fill-color);\n",
              "      border-top-color: var(--fill-color);\n",
              "      border-right-color: var(--fill-color);\n",
              "    }\n",
              "    40% {\n",
              "      border-color: transparent;\n",
              "      border-right-color: var(--fill-color);\n",
              "      border-top-color: var(--fill-color);\n",
              "    }\n",
              "    60% {\n",
              "      border-color: transparent;\n",
              "      border-right-color: var(--fill-color);\n",
              "    }\n",
              "    80% {\n",
              "      border-color: transparent;\n",
              "      border-right-color: var(--fill-color);\n",
              "      border-bottom-color: var(--fill-color);\n",
              "    }\n",
              "    90% {\n",
              "      border-color: transparent;\n",
              "      border-bottom-color: var(--fill-color);\n",
              "    }\n",
              "  }\n",
              "</style>\n",
              "\n",
              "  <script>\n",
              "    async function quickchart(key) {\n",
              "      const quickchartButtonEl =\n",
              "        document.querySelector('#' + key + ' button');\n",
              "      quickchartButtonEl.disabled = true;  // To prevent multiple clicks.\n",
              "      quickchartButtonEl.classList.add('colab-df-spinner');\n",
              "      try {\n",
              "        const charts = await google.colab.kernel.invokeFunction(\n",
              "            'suggestCharts', [key], {});\n",
              "      } catch (error) {\n",
              "        console.error('Error during call to suggestCharts:', error);\n",
              "      }\n",
              "      quickchartButtonEl.classList.remove('colab-df-spinner');\n",
              "      quickchartButtonEl.classList.add('colab-df-quickchart-complete');\n",
              "    }\n",
              "    (() => {\n",
              "      let quickchartButtonEl =\n",
              "        document.querySelector('#df-11ecbf72-f28f-4670-9502-c51bcd6bd838 button');\n",
              "      quickchartButtonEl.style.display =\n",
              "        google.colab.kernel.accessAllowed ? 'block' : 'none';\n",
              "    })();\n",
              "  </script>\n",
              "</div>\n",
              "\n",
              "    </div>\n",
              "  </div>\n"
            ],
            "application/vnd.google.colaboratory.intrinsic+json": {
              "type": "dataframe",
              "variable_name": "nfl_drives",
              "summary": "{\n  \"name\": \"nfl_drives\",\n  \"rows\": 53128,\n  \"fields\": [\n    {\n      \"column\": \"Season\",\n      \"properties\": {\n        \"dtype\": \"number\",\n        \"std\": 2,\n        \"min\": 2009,\n        \"max\": 2017,\n        \"num_unique_values\": 9,\n        \"samples\": [\n          2016,\n          2010,\n          2014\n        ],\n        \"semantic_type\": \"\",\n        \"description\": \"\"\n      }\n    },\n    {\n      \"column\": \"GameID\",\n      \"properties\": {\n        \"dtype\": \"number\",\n        \"std\": 2571717,\n        \"min\": 2009091000,\n        \"max\": 2017123115,\n        \"num_unique_values\": 2259,\n        \"samples\": [\n          2015101200,\n          2010110708,\n          2011091900\n        ],\n        \"semantic_type\": \"\",\n        \"description\": \"\"\n      }\n    },\n    {\n      \"column\": \"Drive\",\n      \"properties\": {\n        \"dtype\": \"number\",\n        \"std\": 7,\n        \"min\": 1,\n        \"max\": 35,\n        \"num_unique_values\": 35,\n        \"samples\": [\n          27,\n          14,\n          25\n        ],\n        \"semantic_type\": \"\",\n        \"description\": \"\"\n      }\n    },\n    {\n      \"column\": \"n.sacks\",\n      \"properties\": {\n        \"dtype\": \"number\",\n        \"std\": 0,\n        \"min\": 0,\n        \"max\": 4,\n        \"num_unique_values\": 5,\n        \"samples\": [\n          1,\n          3,\n          2\n        ],\n        \"semantic_type\": \"\",\n        \"description\": \"\"\n      }\n    },\n    {\n      \"column\": \"n.completions\",\n      \"properties\": {\n        \"dtype\": \"number\",\n        \"std\": 1,\n        \"min\": 0,\n        \"max\": 13,\n        \"num_unique_values\": 14,\n        \"samples\": [\n          9,\n          11,\n          1\n        ],\n        \"semantic_type\": \"\",\n        \"description\": \"\"\n      }\n    },\n    {\n      \"column\": \"n.incompletions\",\n      \"properties\": {\n        \"dtype\": \"number\",\n        \"std\": 0,\n        \"min\": 0,\n        \"max\": 0,\n        \"num_unique_values\": 1,\n        \"samples\": [\n          0\n        ],\n        \"semantic_type\": \"\",\n        \"description\": \"\"\n      }\n    },\n    {\n      \"column\": \"n.stuffed.runs\",\n      \"properties\": {\n        \"dtype\": \"number\",\n        \"std\": 0,\n        \"min\": 0,\n        \"max\": 6,\n        \"num_unique_values\": 7,\n        \"samples\": [\n          1\n        ],\n        \"semantic_type\": \"\",\n        \"description\": \"\"\n      }\n    },\n    {\n      \"column\": \"n.positive.runs\",\n      \"properties\": {\n        \"dtype\": \"number\",\n        \"std\": 1,\n        \"min\": 0,\n        \"max\": 15,\n        \"num_unique_values\": 16,\n        \"samples\": [\n          0\n        ],\n        \"semantic_type\": \"\",\n        \"description\": \"\"\n      }\n    },\n    {\n      \"column\": \"n.negative.plays\",\n      \"properties\": {\n        \"dtype\": \"number\",\n        \"std\": 0,\n        \"min\": 0,\n        \"max\": 7,\n        \"num_unique_values\": 8,\n        \"samples\": [\n          2\n        ],\n        \"semantic_type\": \"\",\n        \"description\": \"\"\n      }\n    },\n    {\n      \"column\": \"n.fumbles\",\n      \"properties\": {\n        \"dtype\": \"number\",\n        \"std\": 0,\n        \"min\": 0,\n        \"max\": 3,\n        \"num_unique_values\": 4,\n        \"samples\": [\n          1\n        ],\n        \"semantic_type\": \"\",\n        \"description\": \"\"\n      }\n    },\n    {\n      \"column\": \"first.downs.gained\",\n      \"properties\": {\n        \"dtype\": \"number\",\n        \"std\": 1,\n        \"min\": 0,\n        \"max\": 8,\n        \"num_unique_values\": 9,\n        \"samples\": [\n          7\n        ],\n        \"semantic_type\": \"\",\n        \"description\": \"\"\n      }\n    },\n    {\n      \"column\": \"third.downs.converted\",\n      \"properties\": {\n        \"dtype\": \"number\",\n        \"std\": 0,\n        \"min\": 0,\n        \"max\": 4,\n        \"num_unique_values\": 5,\n        \"samples\": [\n          1\n        ],\n        \"semantic_type\": \"\",\n        \"description\": \"\"\n      }\n    },\n    {\n      \"column\": \"takeaway.nonscore\",\n      \"properties\": {\n        \"dtype\": \"number\",\n        \"std\": 0.08822093746285797,\n        \"min\": 0.0,\n        \"max\": 1.0,\n        \"num_unique_values\": 2,\n        \"samples\": [\n          1.0\n        ],\n        \"semantic_type\": \"\",\n        \"description\": \"\"\n      }\n    },\n    {\n      \"column\": \"turnover.nonscore\",\n      \"properties\": {\n        \"dtype\": \"number\",\n        \"std\": 0.2533868210468773,\n        \"min\": 0.0,\n        \"max\": 1.0,\n        \"num_unique_values\": 2,\n        \"samples\": [\n          1.0\n        ],\n        \"semantic_type\": \"\",\n        \"description\": \"\"\n      }\n    },\n    {\n      \"column\": \"punt.safety\",\n      \"properties\": {\n        \"dtype\": \"number\",\n        \"std\": 0,\n        \"min\": 0,\n        \"max\": 1,\n        \"num_unique_values\": 2,\n        \"samples\": [\n          0\n        ],\n        \"semantic_type\": \"\",\n        \"description\": \"\"\n      }\n    },\n    {\n      \"column\": \"pts.scored\",\n      \"properties\": {\n        \"dtype\": \"number\",\n        \"std\": 2,\n        \"min\": -6,\n        \"max\": 14,\n        \"num_unique_values\": 16,\n        \"samples\": [\n          0\n        ],\n        \"semantic_type\": \"\",\n        \"description\": \"\"\n      }\n    },\n    {\n      \"column\": \"ST.return.yards.net\",\n      \"properties\": {\n        \"dtype\": \"number\",\n        \"std\": 42.41481761591029,\n        \"min\": -2000.0,\n        \"max\": 2011.0,\n        \"num_unique_values\": 179,\n        \"samples\": [\n          59.0\n        ],\n        \"semantic_type\": \"\",\n        \"description\": \"\"\n      }\n    },\n    {\n      \"column\": \"off.ST.start.pos\",\n      \"properties\": {\n        \"dtype\": \"number\",\n        \"std\": 17.69416512380542,\n        \"min\": 1.0,\n        \"max\": 99.0,\n        \"num_unique_values\": 99,\n        \"samples\": [\n          36.0\n        ],\n        \"semantic_type\": \"\",\n        \"description\": \"\"\n      }\n    },\n    {\n      \"column\": \"off.ST.yards.gained\",\n      \"properties\": {\n        \"dtype\": \"number\",\n        \"std\": 56.94997960358753,\n        \"min\": -1931.0,\n        \"max\": 4010.0,\n        \"num_unique_values\": 282,\n        \"samples\": [\n          65.0\n        ],\n        \"semantic_type\": \"\",\n        \"description\": \"\"\n      }\n    }\n  ]\n}"
            }
          },
          "metadata": {},
          "execution_count": 1
        }
      ],
      "source": [
        "import numpy as np\n",
        "import pandas as pd\n",
        "import matplotlib.pyplot as plt\n",
        "\n",
        "nfl_drives = pd.read_csv('NFL_Drive_by_Drive_Data.csv')\n",
        "nfl_drives.head()"
      ]
    },
    {
      "cell_type": "code",
      "source": [
        "## View the frequency of unique points scored\n",
        "#nfl_drives['pts.scored'].value_counts()\n",
        "\n",
        "## Create a variable \"Off_Scored\" (did offense score or not?)\n",
        "## 1 if the offense scored, 0 otherwise\n",
        "nfl_drives['Off_Scored'] = np.where(nfl_drives['pts.scored'] > 0, 1, 0)\n",
        "\n",
        "## Dropping unnecessary features\n",
        "nfl_drives.drop(['pts.scored', 'Season', 'GameID', 'Drive',\n",
        "                 'turnover.nonscore', 'takeaway.nonscore', 'punt.safety'],\n",
        "                axis='columns', inplace=True)\n",
        "\n",
        "## Dropping features with missing values\n",
        "nfl_drives.drop(['ST.return.yards.net', 'off.ST.start.pos', 'off.ST.yards.gained'],\n",
        "                axis='columns', inplace=True)"
      ],
      "metadata": {
        "id": "QvywC5Sv0oVj"
      },
      "execution_count": null,
      "outputs": []
    },
    {
      "cell_type": "code",
      "source": [
        "## Check for missing values\n",
        "np.sum(nfl_drives.isna())"
      ],
      "metadata": {
        "colab": {
          "base_uri": "https://localhost:8080/",
          "height": 452
        },
        "id": "3HiA1VJxqCTG",
        "outputId": "790e8e4c-2059-4136-9935-c94c1eb6157b"
      },
      "execution_count": null,
      "outputs": [
        {
          "output_type": "stream",
          "name": "stderr",
          "text": [
            "/usr/local/lib/python3.10/dist-packages/numpy/core/fromnumeric.py:86: FutureWarning: The behavior of DataFrame.sum with axis=None is deprecated, in a future version this will reduce over both axes and return a scalar. To retain the old behavior, pass axis=0 (or do not pass axis)\n",
            "  return reduction(axis=axis, out=out, **passkwargs)\n"
          ]
        },
        {
          "output_type": "execute_result",
          "data": {
            "text/plain": [
              "n.sacks                  0\n",
              "n.completions            0\n",
              "n.incompletions          0\n",
              "n.stuffed.runs           0\n",
              "n.positive.runs          0\n",
              "n.negative.plays         0\n",
              "n.fumbles                0\n",
              "first.downs.gained       0\n",
              "third.downs.converted    0\n",
              "Off_Scored               0\n",
              "dtype: int64"
            ],
            "text/html": [
              "<div>\n",
              "<style scoped>\n",
              "    .dataframe tbody tr th:only-of-type {\n",
              "        vertical-align: middle;\n",
              "    }\n",
              "\n",
              "    .dataframe tbody tr th {\n",
              "        vertical-align: top;\n",
              "    }\n",
              "\n",
              "    .dataframe thead th {\n",
              "        text-align: right;\n",
              "    }\n",
              "</style>\n",
              "<table border=\"1\" class=\"dataframe\">\n",
              "  <thead>\n",
              "    <tr style=\"text-align: right;\">\n",
              "      <th></th>\n",
              "      <th>0</th>\n",
              "    </tr>\n",
              "  </thead>\n",
              "  <tbody>\n",
              "    <tr>\n",
              "      <th>n.sacks</th>\n",
              "      <td>0</td>\n",
              "    </tr>\n",
              "    <tr>\n",
              "      <th>n.completions</th>\n",
              "      <td>0</td>\n",
              "    </tr>\n",
              "    <tr>\n",
              "      <th>n.incompletions</th>\n",
              "      <td>0</td>\n",
              "    </tr>\n",
              "    <tr>\n",
              "      <th>n.stuffed.runs</th>\n",
              "      <td>0</td>\n",
              "    </tr>\n",
              "    <tr>\n",
              "      <th>n.positive.runs</th>\n",
              "      <td>0</td>\n",
              "    </tr>\n",
              "    <tr>\n",
              "      <th>n.negative.plays</th>\n",
              "      <td>0</td>\n",
              "    </tr>\n",
              "    <tr>\n",
              "      <th>n.fumbles</th>\n",
              "      <td>0</td>\n",
              "    </tr>\n",
              "    <tr>\n",
              "      <th>first.downs.gained</th>\n",
              "      <td>0</td>\n",
              "    </tr>\n",
              "    <tr>\n",
              "      <th>third.downs.converted</th>\n",
              "      <td>0</td>\n",
              "    </tr>\n",
              "    <tr>\n",
              "      <th>Off_Scored</th>\n",
              "      <td>0</td>\n",
              "    </tr>\n",
              "  </tbody>\n",
              "</table>\n",
              "</div><br><label><b>dtype:</b> int64</label>"
            ]
          },
          "metadata": {},
          "execution_count": 3
        }
      ]
    },
    {
      "cell_type": "code",
      "source": [
        "## Class count\n",
        "nfl_drives['Off_Scored'].value_counts()"
      ],
      "metadata": {
        "id": "DB8Qp3PNx6_y",
        "colab": {
          "base_uri": "https://localhost:8080/",
          "height": 178
        },
        "outputId": "f434b698-4e35-4200-ead3-37cb5e6d23fe"
      },
      "execution_count": null,
      "outputs": [
        {
          "output_type": "execute_result",
          "data": {
            "text/plain": [
              "Off_Scored\n",
              "0    35198\n",
              "1    17930\n",
              "Name: count, dtype: int64"
            ],
            "text/html": [
              "<div>\n",
              "<style scoped>\n",
              "    .dataframe tbody tr th:only-of-type {\n",
              "        vertical-align: middle;\n",
              "    }\n",
              "\n",
              "    .dataframe tbody tr th {\n",
              "        vertical-align: top;\n",
              "    }\n",
              "\n",
              "    .dataframe thead th {\n",
              "        text-align: right;\n",
              "    }\n",
              "</style>\n",
              "<table border=\"1\" class=\"dataframe\">\n",
              "  <thead>\n",
              "    <tr style=\"text-align: right;\">\n",
              "      <th></th>\n",
              "      <th>count</th>\n",
              "    </tr>\n",
              "    <tr>\n",
              "      <th>Off_Scored</th>\n",
              "      <th></th>\n",
              "    </tr>\n",
              "  </thead>\n",
              "  <tbody>\n",
              "    <tr>\n",
              "      <th>0</th>\n",
              "      <td>35198</td>\n",
              "    </tr>\n",
              "    <tr>\n",
              "      <th>1</th>\n",
              "      <td>17930</td>\n",
              "    </tr>\n",
              "  </tbody>\n",
              "</table>\n",
              "</div><br><label><b>dtype:</b> int64</label>"
            ]
          },
          "metadata": {},
          "execution_count": 4
        }
      ]
    },
    {
      "cell_type": "markdown",
      "source": [
        "**Training and Test Set**"
      ],
      "metadata": {
        "id": "HKUBglUT50Up"
      }
    },
    {
      "cell_type": "code",
      "source": [
        "import sklearn\n",
        "from sklearn.model_selection import train_test_split\n",
        "\n",
        "X = nfl_drives.drop('Off_Scored', axis='columns')\n",
        "y = nfl_drives['Off_Scored']\n",
        "\n",
        "X_train, X_test, y_train, y_test = train_test_split(X, y, test_size=0.25)"
      ],
      "metadata": {
        "id": "BOcAl7jWK_eN"
      },
      "execution_count": null,
      "outputs": []
    },
    {
      "cell_type": "markdown",
      "source": [
        "**1. Logistic Regression (Benchmark)**"
      ],
      "metadata": {
        "id": "MTjiFGuV6B3r"
      }
    },
    {
      "cell_type": "code",
      "source": [
        "from sklearn.linear_model import LogisticRegression\n",
        "\n",
        "log_model = LogisticRegression()\n",
        "\n",
        "log_model.fit(X_train, y_train)\n",
        "\n",
        "print(\"Accuracy:\", log_model.score(X_test, y_test))"
      ],
      "metadata": {
        "id": "Sy2L0ym6ah_I",
        "colab": {
          "base_uri": "https://localhost:8080/"
        },
        "outputId": "ad6191c8-0050-4767-88d5-a578a588fe7c"
      },
      "execution_count": null,
      "outputs": [
        {
          "output_type": "stream",
          "name": "stdout",
          "text": [
            "Accuracy: 0.785122722481554\n"
          ]
        }
      ]
    },
    {
      "cell_type": "markdown",
      "source": [
        "F1 score for Logistic Regression"
      ],
      "metadata": {
        "id": "DCJ8VX1uupTM"
      }
    },
    {
      "cell_type": "code",
      "source": [
        "from sklearn.metrics import f1_score\n",
        "\n",
        "log_pred = log_model.predict(X_test)\n",
        "print(\"F1 score:\", f1_score(y_test, log_pred))"
      ],
      "metadata": {
        "colab": {
          "base_uri": "https://localhost:8080/"
        },
        "id": "JvXi3UGDuuH7",
        "outputId": "f905a0d8-524f-45c3-d0f2-3f2a17f8f406"
      },
      "execution_count": null,
      "outputs": [
        {
          "output_type": "stream",
          "name": "stdout",
          "text": [
            "F1 score: 0.6470442740539204\n"
          ]
        }
      ]
    },
    {
      "cell_type": "markdown",
      "source": [
        "**2. Neural Network Model**"
      ],
      "metadata": {
        "id": "9fvR4a5eU3Bw"
      }
    },
    {
      "cell_type": "code",
      "source": [
        "from keras.models import Sequential\n",
        "from keras.layers import Dense\n",
        "\n",
        "NN_model = Sequential()\n",
        "NN_model.add(Dense(10, input_dim=X.shape[1], activation='relu'))\n",
        "NN_model.add(Dense(10, activation='relu'))\n",
        "NN_model.add(Dense(10, activation='relu'))\n",
        "NN_model.add(Dense(10, activation='relu'))\n",
        "NN_model.add(Dense(1, activation='sigmoid'))\n",
        "\n",
        "NN_model.compile(loss='binary_crossentropy', optimizer='adam', metrics=['accuracy'])\n",
        "\n",
        "# Fit model on training data\n",
        "NN_model.fit(X_train, y_train, epochs=10, batch_size=10)"
      ],
      "metadata": {
        "id": "H6REneu5Uw35",
        "colab": {
          "base_uri": "https://localhost:8080/"
        },
        "outputId": "4d3707ca-15a9-449e-8321-7ed02ddc0c0b"
      },
      "execution_count": null,
      "outputs": [
        {
          "output_type": "stream",
          "name": "stderr",
          "text": [
            "/usr/local/lib/python3.10/dist-packages/keras/src/layers/core/dense.py:87: UserWarning: Do not pass an `input_shape`/`input_dim` argument to a layer. When using Sequential models, prefer using an `Input(shape)` object as the first layer in the model instead.\n",
            "  super().__init__(activity_regularizer=activity_regularizer, **kwargs)\n"
          ]
        },
        {
          "output_type": "stream",
          "name": "stdout",
          "text": [
            "Epoch 1/10\n",
            "\u001b[1m3985/3985\u001b[0m \u001b[32m━━━━━━━━━━━━━━━━━━━━\u001b[0m\u001b[37m\u001b[0m \u001b[1m10s\u001b[0m 2ms/step - accuracy: 0.7729 - loss: 0.4999\n",
            "Epoch 2/10\n",
            "\u001b[1m3985/3985\u001b[0m \u001b[32m━━━━━━━━━━━━━━━━━━━━\u001b[0m\u001b[37m\u001b[0m \u001b[1m8s\u001b[0m 2ms/step - accuracy: 0.7876 - loss: 0.4606\n",
            "Epoch 3/10\n",
            "\u001b[1m3985/3985\u001b[0m \u001b[32m━━━━━━━━━━━━━━━━━━━━\u001b[0m\u001b[37m\u001b[0m \u001b[1m7s\u001b[0m 2ms/step - accuracy: 0.7910 - loss: 0.4537\n",
            "Epoch 4/10\n",
            "\u001b[1m3985/3985\u001b[0m \u001b[32m━━━━━━━━━━━━━━━━━━━━\u001b[0m\u001b[37m\u001b[0m \u001b[1m8s\u001b[0m 2ms/step - accuracy: 0.7919 - loss: 0.4539\n",
            "Epoch 5/10\n",
            "\u001b[1m3985/3985\u001b[0m \u001b[32m━━━━━━━━━━━━━━━━━━━━\u001b[0m\u001b[37m\u001b[0m \u001b[1m7s\u001b[0m 2ms/step - accuracy: 0.7943 - loss: 0.4537\n",
            "Epoch 6/10\n",
            "\u001b[1m3985/3985\u001b[0m \u001b[32m━━━━━━━━━━━━━━━━━━━━\u001b[0m\u001b[37m\u001b[0m \u001b[1m7s\u001b[0m 2ms/step - accuracy: 0.7884 - loss: 0.4580\n",
            "Epoch 7/10\n",
            "\u001b[1m3985/3985\u001b[0m \u001b[32m━━━━━━━━━━━━━━━━━━━━\u001b[0m\u001b[37m\u001b[0m \u001b[1m11s\u001b[0m 2ms/step - accuracy: 0.7884 - loss: 0.4584\n",
            "Epoch 8/10\n",
            "\u001b[1m3985/3985\u001b[0m \u001b[32m━━━━━━━━━━━━━━━━━━━━\u001b[0m\u001b[37m\u001b[0m \u001b[1m7s\u001b[0m 2ms/step - accuracy: 0.7914 - loss: 0.4556\n",
            "Epoch 9/10\n",
            "\u001b[1m3985/3985\u001b[0m \u001b[32m━━━━━━━━━━━━━━━━━━━━\u001b[0m\u001b[37m\u001b[0m \u001b[1m8s\u001b[0m 2ms/step - accuracy: 0.7890 - loss: 0.4583\n",
            "Epoch 10/10\n",
            "\u001b[1m3985/3985\u001b[0m \u001b[32m━━━━━━━━━━━━━━━━━━━━\u001b[0m\u001b[37m\u001b[0m \u001b[1m10s\u001b[0m 2ms/step - accuracy: 0.7904 - loss: 0.4587\n"
          ]
        },
        {
          "output_type": "execute_result",
          "data": {
            "text/plain": [
              "<keras.src.callbacks.history.History at 0x78b37966e920>"
            ]
          },
          "metadata": {},
          "execution_count": 8
        }
      ]
    },
    {
      "cell_type": "markdown",
      "source": [
        "Plotting Accuracy"
      ],
      "metadata": {
        "id": "go9A5FCNn46v"
      }
    },
    {
      "cell_type": "code",
      "source": [
        "# Fit the model with 50 epochs and store the history\n",
        "history = NN_model.fit(X_train, y_train, epochs=50, batch_size=10,\n",
        "                       validation_data=(X_test, y_test))\n",
        "\n",
        "# Plot training & validation accuracy values\n",
        "plt.plot(history.history['accuracy'])\n",
        "plt.plot(history.history['val_accuracy'])\n",
        "plt.title('Neural Network Model Accuracy')\n",
        "plt.ylabel('Accuracy')\n",
        "plt.xlabel('Epoch')\n",
        "plt.legend(['Train', 'Test'], loc='upper left')\n",
        "plt.show()"
      ],
      "metadata": {
        "colab": {
          "base_uri": "https://localhost:8080/",
          "height": 1000
        },
        "id": "WpM9ie0XjQrX",
        "outputId": "cf014f28-0903-4e3f-98b3-806e453126f3"
      },
      "execution_count": null,
      "outputs": [
        {
          "output_type": "stream",
          "name": "stdout",
          "text": [
            "Epoch 1/50\n",
            "\u001b[1m3985/3985\u001b[0m \u001b[32m━━━━━━━━━━━━━━━━━━━━\u001b[0m\u001b[37m\u001b[0m \u001b[1m10s\u001b[0m 3ms/step - accuracy: 0.7925 - loss: 0.4552 - val_accuracy: 0.7870 - val_loss: 0.4573\n",
            "Epoch 2/50\n",
            "\u001b[1m3985/3985\u001b[0m \u001b[32m━━━━━━━━━━━━━━━━━━━━\u001b[0m\u001b[37m\u001b[0m \u001b[1m9s\u001b[0m 2ms/step - accuracy: 0.7910 - loss: 0.4546 - val_accuracy: 0.7908 - val_loss: 0.4567\n",
            "Epoch 3/50\n",
            "\u001b[1m3985/3985\u001b[0m \u001b[32m━━━━━━━━━━━━━━━━━━━━\u001b[0m\u001b[37m\u001b[0m \u001b[1m9s\u001b[0m 2ms/step - accuracy: 0.7962 - loss: 0.4500 - val_accuracy: 0.7903 - val_loss: 0.4577\n",
            "Epoch 4/50\n",
            "\u001b[1m3985/3985\u001b[0m \u001b[32m━━━━━━━━━━━━━━━━━━━━\u001b[0m\u001b[37m\u001b[0m \u001b[1m9s\u001b[0m 2ms/step - accuracy: 0.7952 - loss: 0.4518 - val_accuracy: 0.7891 - val_loss: 0.4571\n",
            "Epoch 5/50\n",
            "\u001b[1m3985/3985\u001b[0m \u001b[32m━━━━━━━━━━━━━━━━━━━━\u001b[0m\u001b[37m\u001b[0m \u001b[1m10s\u001b[0m 3ms/step - accuracy: 0.7932 - loss: 0.4521 - val_accuracy: 0.7875 - val_loss: 0.4571\n",
            "Epoch 6/50\n",
            "\u001b[1m3985/3985\u001b[0m \u001b[32m━━━━━━━━━━━━━━━━━━━━\u001b[0m\u001b[37m\u001b[0m \u001b[1m10s\u001b[0m 3ms/step - accuracy: 0.7892 - loss: 0.4589 - val_accuracy: 0.7906 - val_loss: 0.4558\n",
            "Epoch 7/50\n",
            "\u001b[1m3985/3985\u001b[0m \u001b[32m━━━━━━━━━━━━━━━━━━━━\u001b[0m\u001b[37m\u001b[0m \u001b[1m19s\u001b[0m 2ms/step - accuracy: 0.7884 - loss: 0.4602 - val_accuracy: 0.7900 - val_loss: 0.4570\n",
            "Epoch 8/50\n",
            "\u001b[1m3985/3985\u001b[0m \u001b[32m━━━━━━━━━━━━━━━━━━━━\u001b[0m\u001b[37m\u001b[0m \u001b[1m10s\u001b[0m 2ms/step - accuracy: 0.7895 - loss: 0.4599 - val_accuracy: 0.7838 - val_loss: 0.4601\n",
            "Epoch 9/50\n",
            "\u001b[1m3985/3985\u001b[0m \u001b[32m━━━━━━━━━━━━━━━━━━━━\u001b[0m\u001b[37m\u001b[0m \u001b[1m11s\u001b[0m 2ms/step - accuracy: 0.7915 - loss: 0.4533 - val_accuracy: 0.7887 - val_loss: 0.4578\n",
            "Epoch 10/50\n",
            "\u001b[1m3985/3985\u001b[0m \u001b[32m━━━━━━━━━━━━━━━━━━━━\u001b[0m\u001b[37m\u001b[0m \u001b[1m11s\u001b[0m 2ms/step - accuracy: 0.7957 - loss: 0.4550 - val_accuracy: 0.7839 - val_loss: 0.4598\n",
            "Epoch 11/50\n",
            "\u001b[1m3985/3985\u001b[0m \u001b[32m━━━━━━━━━━━━━━━━━━━━\u001b[0m\u001b[37m\u001b[0m \u001b[1m10s\u001b[0m 2ms/step - accuracy: 0.7902 - loss: 0.4566 - val_accuracy: 0.7908 - val_loss: 0.4568\n",
            "Epoch 12/50\n",
            "\u001b[1m3985/3985\u001b[0m \u001b[32m━━━━━━━━━━━━━━━━━━━━\u001b[0m\u001b[37m\u001b[0m \u001b[1m9s\u001b[0m 2ms/step - accuracy: 0.7946 - loss: 0.4521 - val_accuracy: 0.7899 - val_loss: 0.4577\n",
            "Epoch 13/50\n",
            "\u001b[1m3985/3985\u001b[0m \u001b[32m━━━━━━━━━━━━━━━━━━━━\u001b[0m\u001b[37m\u001b[0m \u001b[1m11s\u001b[0m 3ms/step - accuracy: 0.7898 - loss: 0.4577 - val_accuracy: 0.7888 - val_loss: 0.4583\n",
            "Epoch 14/50\n",
            "\u001b[1m3985/3985\u001b[0m \u001b[32m━━━━━━━━━━━━━━━━━━━━\u001b[0m\u001b[37m\u001b[0m \u001b[1m20s\u001b[0m 3ms/step - accuracy: 0.7936 - loss: 0.4501 - val_accuracy: 0.7905 - val_loss: 0.4567\n",
            "Epoch 15/50\n",
            "\u001b[1m3985/3985\u001b[0m \u001b[32m━━━━━━━━━━━━━━━━━━━━\u001b[0m\u001b[37m\u001b[0m \u001b[1m9s\u001b[0m 2ms/step - accuracy: 0.7936 - loss: 0.4527 - val_accuracy: 0.7901 - val_loss: 0.4562\n",
            "Epoch 16/50\n",
            "\u001b[1m3985/3985\u001b[0m \u001b[32m━━━━━━━━━━━━━━━━━━━━\u001b[0m\u001b[37m\u001b[0m \u001b[1m9s\u001b[0m 2ms/step - accuracy: 0.7918 - loss: 0.4574 - val_accuracy: 0.7907 - val_loss: 0.4567\n",
            "Epoch 17/50\n",
            "\u001b[1m3985/3985\u001b[0m \u001b[32m━━━━━━━━━━━━━━━━━━━━\u001b[0m\u001b[37m\u001b[0m \u001b[1m11s\u001b[0m 2ms/step - accuracy: 0.7909 - loss: 0.4540 - val_accuracy: 0.7884 - val_loss: 0.4567\n",
            "Epoch 18/50\n",
            "\u001b[1m3985/3985\u001b[0m \u001b[32m━━━━━━━━━━━━━━━━━━━━\u001b[0m\u001b[37m\u001b[0m \u001b[1m9s\u001b[0m 2ms/step - accuracy: 0.7944 - loss: 0.4495 - val_accuracy: 0.7902 - val_loss: 0.4571\n",
            "Epoch 19/50\n",
            "\u001b[1m3985/3985\u001b[0m \u001b[32m━━━━━━━━━━━━━━━━━━━━\u001b[0m\u001b[37m\u001b[0m \u001b[1m11s\u001b[0m 2ms/step - accuracy: 0.7943 - loss: 0.4510 - val_accuracy: 0.7893 - val_loss: 0.4571\n",
            "Epoch 20/50\n",
            "\u001b[1m3985/3985\u001b[0m \u001b[32m━━━━━━━━━━━━━━━━━━━━\u001b[0m\u001b[37m\u001b[0m \u001b[1m9s\u001b[0m 2ms/step - accuracy: 0.7910 - loss: 0.4598 - val_accuracy: 0.7875 - val_loss: 0.4576\n",
            "Epoch 21/50\n",
            "\u001b[1m3985/3985\u001b[0m \u001b[32m━━━━━━━━━━━━━━━━━━━━\u001b[0m\u001b[37m\u001b[0m \u001b[1m10s\u001b[0m 3ms/step - accuracy: 0.7914 - loss: 0.4558 - val_accuracy: 0.7845 - val_loss: 0.4589\n",
            "Epoch 22/50\n",
            "\u001b[1m3985/3985\u001b[0m \u001b[32m━━━━━━━━━━━━━━━━━━━━\u001b[0m\u001b[37m\u001b[0m \u001b[1m10s\u001b[0m 2ms/step - accuracy: 0.7925 - loss: 0.4533 - val_accuracy: 0.7895 - val_loss: 0.4563\n",
            "Epoch 23/50\n",
            "\u001b[1m3985/3985\u001b[0m \u001b[32m━━━━━━━━━━━━━━━━━━━━\u001b[0m\u001b[37m\u001b[0m \u001b[1m10s\u001b[0m 2ms/step - accuracy: 0.7936 - loss: 0.4508 - val_accuracy: 0.7910 - val_loss: 0.4557\n",
            "Epoch 24/50\n",
            "\u001b[1m3985/3985\u001b[0m \u001b[32m━━━━━━━━━━━━━━━━━━━━\u001b[0m\u001b[37m\u001b[0m \u001b[1m9s\u001b[0m 2ms/step - accuracy: 0.7950 - loss: 0.4510 - val_accuracy: 0.7899 - val_loss: 0.4585\n",
            "Epoch 25/50\n",
            "\u001b[1m3985/3985\u001b[0m \u001b[32m━━━━━━━━━━━━━━━━━━━━\u001b[0m\u001b[37m\u001b[0m \u001b[1m11s\u001b[0m 2ms/step - accuracy: 0.7900 - loss: 0.4540 - val_accuracy: 0.7845 - val_loss: 0.4596\n",
            "Epoch 26/50\n",
            "\u001b[1m3985/3985\u001b[0m \u001b[32m━━━━━━━━━━━━━━━━━━━━\u001b[0m\u001b[37m\u001b[0m \u001b[1m11s\u001b[0m 3ms/step - accuracy: 0.7883 - loss: 0.4558 - val_accuracy: 0.7848 - val_loss: 0.4582\n",
            "Epoch 27/50\n",
            "\u001b[1m3985/3985\u001b[0m \u001b[32m━━━━━━━━━━━━━━━━━━━━\u001b[0m\u001b[37m\u001b[0m \u001b[1m19s\u001b[0m 2ms/step - accuracy: 0.7902 - loss: 0.4541 - val_accuracy: 0.7908 - val_loss: 0.4568\n",
            "Epoch 28/50\n",
            "\u001b[1m3985/3985\u001b[0m \u001b[32m━━━━━━━━━━━━━━━━━━━━\u001b[0m\u001b[37m\u001b[0m \u001b[1m9s\u001b[0m 2ms/step - accuracy: 0.7902 - loss: 0.4540 - val_accuracy: 0.7910 - val_loss: 0.4561\n",
            "Epoch 29/50\n",
            "\u001b[1m3985/3985\u001b[0m \u001b[32m━━━━━━━━━━━━━━━━━━━━\u001b[0m\u001b[37m\u001b[0m \u001b[1m11s\u001b[0m 2ms/step - accuracy: 0.7935 - loss: 0.4529 - val_accuracy: 0.7902 - val_loss: 0.4567\n",
            "Epoch 30/50\n",
            "\u001b[1m3985/3985\u001b[0m \u001b[32m━━━━━━━━━━━━━━━━━━━━\u001b[0m\u001b[37m\u001b[0m \u001b[1m11s\u001b[0m 2ms/step - accuracy: 0.7905 - loss: 0.4571 - val_accuracy: 0.7879 - val_loss: 0.4572\n",
            "Epoch 31/50\n",
            "\u001b[1m3985/3985\u001b[0m \u001b[32m━━━━━━━━━━━━━━━━━━━━\u001b[0m\u001b[37m\u001b[0m \u001b[1m11s\u001b[0m 3ms/step - accuracy: 0.7943 - loss: 0.4519 - val_accuracy: 0.7876 - val_loss: 0.4574\n",
            "Epoch 32/50\n",
            "\u001b[1m3985/3985\u001b[0m \u001b[32m━━━━━━━━━━━━━━━━━━━━\u001b[0m\u001b[37m\u001b[0m \u001b[1m19s\u001b[0m 2ms/step - accuracy: 0.7924 - loss: 0.4520 - val_accuracy: 0.7891 - val_loss: 0.4570\n",
            "Epoch 33/50\n",
            "\u001b[1m3985/3985\u001b[0m \u001b[32m━━━━━━━━━━━━━━━━━━━━\u001b[0m\u001b[37m\u001b[0m \u001b[1m10s\u001b[0m 2ms/step - accuracy: 0.7939 - loss: 0.4512 - val_accuracy: 0.7897 - val_loss: 0.4560\n",
            "Epoch 34/50\n",
            "\u001b[1m3985/3985\u001b[0m \u001b[32m━━━━━━━━━━━━━━━━━━━━\u001b[0m\u001b[37m\u001b[0m \u001b[1m10s\u001b[0m 2ms/step - accuracy: 0.7932 - loss: 0.4503 - val_accuracy: 0.7832 - val_loss: 0.4619\n",
            "Epoch 35/50\n",
            "\u001b[1m3985/3985\u001b[0m \u001b[32m━━━━━━━━━━━━━━━━━━━━\u001b[0m\u001b[37m\u001b[0m \u001b[1m9s\u001b[0m 2ms/step - accuracy: 0.7897 - loss: 0.4524 - val_accuracy: 0.7902 - val_loss: 0.4570\n",
            "Epoch 36/50\n",
            "\u001b[1m3985/3985\u001b[0m \u001b[32m━━━━━━━━━━━━━━━━━━━━\u001b[0m\u001b[37m\u001b[0m \u001b[1m10s\u001b[0m 2ms/step - accuracy: 0.7918 - loss: 0.4493 - val_accuracy: 0.7879 - val_loss: 0.4562\n",
            "Epoch 37/50\n",
            "\u001b[1m3985/3985\u001b[0m \u001b[32m━━━━━━━━━━━━━━━━━━━━\u001b[0m\u001b[37m\u001b[0m \u001b[1m9s\u001b[0m 2ms/step - accuracy: 0.7916 - loss: 0.4534 - val_accuracy: 0.7899 - val_loss: 0.4562\n",
            "Epoch 38/50\n",
            "\u001b[1m3985/3985\u001b[0m \u001b[32m━━━━━━━━━━━━━━━━━━━━\u001b[0m\u001b[37m\u001b[0m \u001b[1m10s\u001b[0m 2ms/step - accuracy: 0.7895 - loss: 0.4577 - val_accuracy: 0.7870 - val_loss: 0.4564\n",
            "Epoch 39/50\n",
            "\u001b[1m3985/3985\u001b[0m \u001b[32m━━━━━━━━━━━━━━━━━━━━\u001b[0m\u001b[37m\u001b[0m \u001b[1m10s\u001b[0m 2ms/step - accuracy: 0.7925 - loss: 0.4521 - val_accuracy: 0.7891 - val_loss: 0.4555\n",
            "Epoch 40/50\n",
            "\u001b[1m3985/3985\u001b[0m \u001b[32m━━━━━━━━━━━━━━━━━━━━\u001b[0m\u001b[37m\u001b[0m \u001b[1m9s\u001b[0m 2ms/step - accuracy: 0.7945 - loss: 0.4510 - val_accuracy: 0.7900 - val_loss: 0.4557\n",
            "Epoch 41/50\n",
            "\u001b[1m3985/3985\u001b[0m \u001b[32m━━━━━━━━━━━━━━━━━━━━\u001b[0m\u001b[37m\u001b[0m \u001b[1m11s\u001b[0m 3ms/step - accuracy: 0.7931 - loss: 0.4497 - val_accuracy: 0.7911 - val_loss: 0.4552\n",
            "Epoch 42/50\n",
            "\u001b[1m3985/3985\u001b[0m \u001b[32m━━━━━━━━━━━━━━━━━━━━\u001b[0m\u001b[37m\u001b[0m \u001b[1m10s\u001b[0m 2ms/step - accuracy: 0.7892 - loss: 0.4572 - val_accuracy: 0.7908 - val_loss: 0.4569\n",
            "Epoch 43/50\n",
            "\u001b[1m3985/3985\u001b[0m \u001b[32m━━━━━━━━━━━━━━━━━━━━\u001b[0m\u001b[37m\u001b[0m \u001b[1m10s\u001b[0m 2ms/step - accuracy: 0.7924 - loss: 0.4519 - val_accuracy: 0.7879 - val_loss: 0.4562\n",
            "Epoch 44/50\n",
            "\u001b[1m3985/3985\u001b[0m \u001b[32m━━━━━━━━━━━━━━━━━━━━\u001b[0m\u001b[37m\u001b[0m \u001b[1m9s\u001b[0m 2ms/step - accuracy: 0.7897 - loss: 0.4575 - val_accuracy: 0.7899 - val_loss: 0.4565\n",
            "Epoch 45/50\n",
            "\u001b[1m3985/3985\u001b[0m \u001b[32m━━━━━━━━━━━━━━━━━━━━\u001b[0m\u001b[37m\u001b[0m \u001b[1m12s\u001b[0m 3ms/step - accuracy: 0.7936 - loss: 0.4487 - val_accuracy: 0.7871 - val_loss: 0.4579\n",
            "Epoch 46/50\n",
            "\u001b[1m3985/3985\u001b[0m \u001b[32m━━━━━━━━━━━━━━━━━━━━\u001b[0m\u001b[37m\u001b[0m \u001b[1m20s\u001b[0m 2ms/step - accuracy: 0.7922 - loss: 0.4556 - val_accuracy: 0.7894 - val_loss: 0.4569\n",
            "Epoch 47/50\n",
            "\u001b[1m3985/3985\u001b[0m \u001b[32m━━━━━━━━━━━━━━━━━━━━\u001b[0m\u001b[37m\u001b[0m \u001b[1m9s\u001b[0m 2ms/step - accuracy: 0.7923 - loss: 0.4533 - val_accuracy: 0.7897 - val_loss: 0.4570\n",
            "Epoch 48/50\n",
            "\u001b[1m3985/3985\u001b[0m \u001b[32m━━━━━━━━━━━━━━━━━━━━\u001b[0m\u001b[37m\u001b[0m \u001b[1m10s\u001b[0m 2ms/step - accuracy: 0.7931 - loss: 0.4535 - val_accuracy: 0.7902 - val_loss: 0.4565\n",
            "Epoch 49/50\n",
            "\u001b[1m3985/3985\u001b[0m \u001b[32m━━━━━━━━━━━━━━━━━━━━\u001b[0m\u001b[37m\u001b[0m \u001b[1m11s\u001b[0m 3ms/step - accuracy: 0.7961 - loss: 0.4459 - val_accuracy: 0.7896 - val_loss: 0.4556\n",
            "Epoch 50/50\n",
            "\u001b[1m3985/3985\u001b[0m \u001b[32m━━━━━━━━━━━━━━━━━━━━\u001b[0m\u001b[37m\u001b[0m \u001b[1m10s\u001b[0m 2ms/step - accuracy: 0.7946 - loss: 0.4508 - val_accuracy: 0.7899 - val_loss: 0.4562\n"
          ]
        },
        {
          "output_type": "display_data",
          "data": {
            "text/plain": [
              "<Figure size 640x480 with 1 Axes>"
            ],
            "image/png": "[encoded data removed]"
          },
          "metadata": {}
        }
      ]
    },
    {
      "cell_type": "markdown",
      "source": [
        "Test Accuracy for NN model"
      ],
      "metadata": {
        "id": "-PNvts2hVARK"
      }
    },
    {
      "cell_type": "code",
      "source": [
        "scores_NN = NN_model.evaluate(X_test, y_test)"
      ],
      "metadata": {
        "id": "-2adlSn0U_CB",
        "colab": {
          "base_uri": "https://localhost:8080/"
        },
        "outputId": "757be7f5-10c0-43b0-865f-28aea701f419"
      },
      "execution_count": null,
      "outputs": [
        {
          "output_type": "stream",
          "name": "stdout",
          "text": [
            "\u001b[1m416/416\u001b[0m \u001b[32m━━━━━━━━━━━━━━━━━━━━\u001b[0m\u001b[37m\u001b[0m \u001b[1m1s\u001b[0m 2ms/step - accuracy: 0.7894 - loss: 0.4584\n"
          ]
        }
      ]
    },
    {
      "cell_type": "markdown",
      "source": [
        "F1 score for NN model"
      ],
      "metadata": {
        "id": "lHZNkkTRVKY2"
      }
    },
    {
      "cell_type": "code",
      "source": [
        "NN_pred = np.round(NN_model.predict(X_test)).astype(int)\n",
        "print(\"F1 score:\", f1_score(y_test, NN_pred))"
      ],
      "metadata": {
        "id": "5BbuXgyUVJ8v",
        "colab": {
          "base_uri": "https://localhost:8080/"
        },
        "outputId": "eb5e50de-8154-4467-9c8a-bd6f4d9a5855"
      },
      "execution_count": null,
      "outputs": [
        {
          "output_type": "stream",
          "name": "stdout",
          "text": [
            "\u001b[1m416/416\u001b[0m \u001b[32m━━━━━━━━━━━━━━━━━━━━\u001b[0m\u001b[37m\u001b[0m \u001b[1m1s\u001b[0m 2ms/step\n",
            "F1 score: 0.6579139314369074\n"
          ]
        }
      ]
    },
    {
      "cell_type": "markdown",
      "source": [
        "**3. Convolutional Neural Network**"
      ],
      "metadata": {
        "id": "n_SffO0Y8D4D"
      }
    },
    {
      "cell_type": "code",
      "source": [
        "from keras.layers import Conv1D, MaxPooling1D, Flatten\n",
        "\n",
        "CNN_model = Sequential()\n",
        "CNN_model.add(Conv1D(filters=64, kernel_size=2, activation='relu', input_shape=(X.shape[1], 1)))\n",
        "CNN_model.add(MaxPooling1D(pool_size=2))\n",
        "CNN_model.add(Flatten())\n",
        "CNN_model.add(Dense(15, activation='relu'))\n",
        "CNN_model.add(Dense(1, activation='sigmoid'))\n",
        "\n",
        "CNN_model.compile(loss='binary_crossentropy', optimizer='adam', metrics=['accuracy'])\n",
        "\n",
        "# Fit model on training data\n",
        "CNN_model.fit(X_train, y_train, epochs=10, batch_size=10)"
      ],
      "metadata": {
        "id": "XSm5XTbo9cB4",
        "colab": {
          "base_uri": "https://localhost:8080/"
        },
        "outputId": "06d4d4b3-3b85-4160-ab7d-dfdb4f7a8742"
      },
      "execution_count": null,
      "outputs": [
        {
          "output_type": "stream",
          "name": "stdout",
          "text": [
            "Epoch 1/10\n"
          ]
        },
        {
          "output_type": "stream",
          "name": "stderr",
          "text": [
            "/usr/local/lib/python3.10/dist-packages/keras/src/layers/convolutional/base_conv.py:107: UserWarning: Do not pass an `input_shape`/`input_dim` argument to a layer. When using Sequential models, prefer using an `Input(shape)` object as the first layer in the model instead.\n",
            "  super().__init__(activity_regularizer=activity_regularizer, **kwargs)\n"
          ]
        },
        {
          "output_type": "stream",
          "name": "stdout",
          "text": [
            "\u001b[1m3985/3985\u001b[0m \u001b[32m━━━━━━━━━━━━━━━━━━━━\u001b[0m\u001b[37m\u001b[0m \u001b[1m10s\u001b[0m 2ms/step - accuracy: 0.7740 - loss: 0.4946\n",
            "Epoch 2/10\n",
            "\u001b[1m3985/3985\u001b[0m \u001b[32m━━━━━━━━━━━━━━━━━━━━\u001b[0m\u001b[37m\u001b[0m \u001b[1m7s\u001b[0m 2ms/step - accuracy: 0.7834 - loss: 0.4690\n",
            "Epoch 3/10\n",
            "\u001b[1m3985/3985\u001b[0m \u001b[32m━━━━━━━━━━━━━━━━━━━━\u001b[0m\u001b[37m\u001b[0m \u001b[1m10s\u001b[0m 2ms/step - accuracy: 0.7868 - loss: 0.4657\n",
            "Epoch 4/10\n",
            "\u001b[1m3985/3985\u001b[0m \u001b[32m━━━━━━━━━━━━━━━━━━━━\u001b[0m\u001b[37m\u001b[0m \u001b[1m8s\u001b[0m 2ms/step - accuracy: 0.7833 - loss: 0.4668\n",
            "Epoch 5/10\n",
            "\u001b[1m3985/3985\u001b[0m \u001b[32m━━━━━━━━━━━━━━━━━━━━\u001b[0m\u001b[37m\u001b[0m \u001b[1m7s\u001b[0m 2ms/step - accuracy: 0.7919 - loss: 0.4590\n",
            "Epoch 6/10\n",
            "\u001b[1m3985/3985\u001b[0m \u001b[32m━━━━━━━━━━━━━━━━━━━━\u001b[0m\u001b[37m\u001b[0m \u001b[1m11s\u001b[0m 2ms/step - accuracy: 0.7904 - loss: 0.4614\n",
            "Epoch 7/10\n",
            "\u001b[1m3985/3985\u001b[0m \u001b[32m━━━━━━━━━━━━━━━━━━━━\u001b[0m\u001b[37m\u001b[0m \u001b[1m7s\u001b[0m 2ms/step - accuracy: 0.7883 - loss: 0.4601\n",
            "Epoch 8/10\n",
            "\u001b[1m3985/3985\u001b[0m \u001b[32m━━━━━━━━━━━━━━━━━━━━\u001b[0m\u001b[37m\u001b[0m \u001b[1m7s\u001b[0m 2ms/step - accuracy: 0.7873 - loss: 0.4618\n",
            "Epoch 9/10\n",
            "\u001b[1m3985/3985\u001b[0m \u001b[32m━━━━━━━━━━━━━━━━━━━━\u001b[0m\u001b[37m\u001b[0m \u001b[1m7s\u001b[0m 2ms/step - accuracy: 0.7889 - loss: 0.4597\n",
            "Epoch 10/10\n",
            "\u001b[1m3985/3985\u001b[0m \u001b[32m━━━━━━━━━━━━━━━━━━━━\u001b[0m\u001b[37m\u001b[0m \u001b[1m9s\u001b[0m 2ms/step - accuracy: 0.7892 - loss: 0.4582\n"
          ]
        },
        {
          "output_type": "execute_result",
          "data": {
            "text/plain": [
              "<keras.src.callbacks.history.History at 0x78b315ff6fe0>"
            ]
          },
          "metadata": {},
          "execution_count": 12
        }
      ]
    },
    {
      "cell_type": "markdown",
      "source": [
        "Plotting Accuracy"
      ],
      "metadata": {
        "id": "jT7uvWQOn-3W"
      }
    },
    {
      "cell_type": "code",
      "source": [
        "# Fit the CNN model with 50 epochs and store the history\n",
        "history_cnn = CNN_model.fit(X_train, y_train, epochs=50, batch_size=10,\n",
        "                            validation_data=(X_test, y_test))\n",
        "\n",
        "# Plot training & validation accuracy values for CNN\n",
        "plt.plot(history_cnn.history['accuracy'])\n",
        "plt.plot(history_cnn.history['val_accuracy'])\n",
        "plt.title('CNN Model Accuracy')\n",
        "plt.ylabel('Accuracy')\n",
        "plt.xlabel('Epoch')\n",
        "plt.legend(['Train', 'Test'], loc='upper left')\n",
        "plt.show()"
      ],
      "metadata": {
        "colab": {
          "base_uri": "https://localhost:8080/",
          "height": 1000
        },
        "id": "2NAvPd8gsLP5",
        "outputId": "3249f9fa-9122-4bcc-e9e6-904271b5bf6f"
      },
      "execution_count": null,
      "outputs": [
        {
          "output_type": "stream",
          "name": "stdout",
          "text": [
            "Epoch 1/50\n",
            "\u001b[1m3985/3985\u001b[0m \u001b[32m━━━━━━━━━━━━━━━━━━━━\u001b[0m\u001b[37m\u001b[0m \u001b[1m9s\u001b[0m 2ms/step - accuracy: 0.7885 - loss: 0.4613 - val_accuracy: 0.7851 - val_loss: 0.4629\n",
            "Epoch 2/50\n",
            "\u001b[1m3985/3985\u001b[0m \u001b[32m━━━━━━━━━━━━━━━━━━━━\u001b[0m\u001b[37m\u001b[0m \u001b[1m9s\u001b[0m 2ms/step - accuracy: 0.7914 - loss: 0.4585 - val_accuracy: 0.7882 - val_loss: 0.4591\n",
            "Epoch 3/50\n",
            "\u001b[1m3985/3985\u001b[0m \u001b[32m━━━━━━━━━━━━━━━━━━━━\u001b[0m\u001b[37m\u001b[0m \u001b[1m9s\u001b[0m 2ms/step - accuracy: 0.7902 - loss: 0.4574 - val_accuracy: 0.7878 - val_loss: 0.4596\n",
            "Epoch 4/50\n",
            "\u001b[1m3985/3985\u001b[0m \u001b[32m━━━━━━━━━━━━━━━━━━━━\u001b[0m\u001b[37m\u001b[0m \u001b[1m9s\u001b[0m 2ms/step - accuracy: 0.7876 - loss: 0.4599 - val_accuracy: 0.7885 - val_loss: 0.4586\n",
            "Epoch 5/50\n",
            "\u001b[1m3985/3985\u001b[0m \u001b[32m━━━━━━━━━━━━━━━━━━━━\u001b[0m\u001b[37m\u001b[0m \u001b[1m9s\u001b[0m 2ms/step - accuracy: 0.7911 - loss: 0.4574 - val_accuracy: 0.7856 - val_loss: 0.4653\n",
            "Epoch 6/50\n",
            "\u001b[1m3985/3985\u001b[0m \u001b[32m━━━━━━━━━━━━━━━━━━━━\u001b[0m\u001b[37m\u001b[0m \u001b[1m11s\u001b[0m 2ms/step - accuracy: 0.7899 - loss: 0.4568 - val_accuracy: 0.7886 - val_loss: 0.4600\n",
            "Epoch 7/50\n",
            "\u001b[1m3985/3985\u001b[0m \u001b[32m━━━━━━━━━━━━━━━━━━━━\u001b[0m\u001b[37m\u001b[0m \u001b[1m9s\u001b[0m 2ms/step - accuracy: 0.7894 - loss: 0.4582 - val_accuracy: 0.7870 - val_loss: 0.4606\n",
            "Epoch 8/50\n",
            "\u001b[1m3985/3985\u001b[0m \u001b[32m━━━━━━━━━━━━━━━━━━━━\u001b[0m\u001b[37m\u001b[0m \u001b[1m9s\u001b[0m 2ms/step - accuracy: 0.7887 - loss: 0.4617 - val_accuracy: 0.7869 - val_loss: 0.4584\n",
            "Epoch 9/50\n",
            "\u001b[1m3985/3985\u001b[0m \u001b[32m━━━━━━━━━━━━━━━━━━━━\u001b[0m\u001b[37m\u001b[0m \u001b[1m10s\u001b[0m 2ms/step - accuracy: 0.7892 - loss: 0.4593 - val_accuracy: 0.7895 - val_loss: 0.4583\n",
            "Epoch 10/50\n",
            "\u001b[1m3985/3985\u001b[0m \u001b[32m━━━━━━━━━━━━━━━━━━━━\u001b[0m\u001b[37m\u001b[0m \u001b[1m10s\u001b[0m 3ms/step - accuracy: 0.7906 - loss: 0.4565 - val_accuracy: 0.7872 - val_loss: 0.4595\n",
            "Epoch 11/50\n",
            "\u001b[1m3985/3985\u001b[0m \u001b[32m━━━━━━━━━━━━━━━━━━━━\u001b[0m\u001b[37m\u001b[0m \u001b[1m10s\u001b[0m 3ms/step - accuracy: 0.7903 - loss: 0.4558 - val_accuracy: 0.7886 - val_loss: 0.4564\n",
            "Epoch 12/50\n",
            "\u001b[1m3985/3985\u001b[0m \u001b[32m━━━━━━━━━━━━━━━━━━━━\u001b[0m\u001b[37m\u001b[0m \u001b[1m9s\u001b[0m 2ms/step - accuracy: 0.7903 - loss: 0.4580 - val_accuracy: 0.7847 - val_loss: 0.4622\n",
            "Epoch 13/50\n",
            "\u001b[1m3985/3985\u001b[0m \u001b[32m━━━━━━━━━━━━━━━━━━━━\u001b[0m\u001b[37m\u001b[0m \u001b[1m9s\u001b[0m 2ms/step - accuracy: 0.7891 - loss: 0.4562 - val_accuracy: 0.7872 - val_loss: 0.4582\n",
            "Epoch 14/50\n",
            "\u001b[1m3985/3985\u001b[0m \u001b[32m━━━━━━━━━━━━━━━━━━━━\u001b[0m\u001b[37m\u001b[0m \u001b[1m11s\u001b[0m 3ms/step - accuracy: 0.7918 - loss: 0.4562 - val_accuracy: 0.7878 - val_loss: 0.4581\n",
            "Epoch 15/50\n",
            "\u001b[1m3985/3985\u001b[0m \u001b[32m━━━━━━━━━━━━━━━━━━━━\u001b[0m\u001b[37m\u001b[0m \u001b[1m10s\u001b[0m 3ms/step - accuracy: 0.7941 - loss: 0.4507 - val_accuracy: 0.7885 - val_loss: 0.4574\n",
            "Epoch 16/50\n",
            "\u001b[1m3985/3985\u001b[0m \u001b[32m━━━━━━━━━━━━━━━━━━━━\u001b[0m\u001b[37m\u001b[0m \u001b[1m9s\u001b[0m 2ms/step - accuracy: 0.7939 - loss: 0.4556 - val_accuracy: 0.7891 - val_loss: 0.4588\n",
            "Epoch 17/50\n",
            "\u001b[1m3985/3985\u001b[0m \u001b[32m━━━━━━━━━━━━━━━━━━━━\u001b[0m\u001b[37m\u001b[0m \u001b[1m8s\u001b[0m 2ms/step - accuracy: 0.7939 - loss: 0.4521 - val_accuracy: 0.7874 - val_loss: 0.4597\n",
            "Epoch 18/50\n",
            "\u001b[1m3985/3985\u001b[0m \u001b[32m━━━━━━━━━━━━━━━━━━━━\u001b[0m\u001b[37m\u001b[0m \u001b[1m9s\u001b[0m 2ms/step - accuracy: 0.7908 - loss: 0.4538 - val_accuracy: 0.7845 - val_loss: 0.4601\n",
            "Epoch 19/50\n",
            "\u001b[1m3985/3985\u001b[0m \u001b[32m━━━━━━━━━━━━━━━━━━━━\u001b[0m\u001b[37m\u001b[0m \u001b[1m10s\u001b[0m 2ms/step - accuracy: 0.7909 - loss: 0.4568 - val_accuracy: 0.7901 - val_loss: 0.4578\n",
            "Epoch 20/50\n",
            "\u001b[1m3985/3985\u001b[0m \u001b[32m━━━━━━━━━━━━━━━━━━━━\u001b[0m\u001b[37m\u001b[0m \u001b[1m11s\u001b[0m 2ms/step - accuracy: 0.7891 - loss: 0.4591 - val_accuracy: 0.7850 - val_loss: 0.4612\n",
            "Epoch 21/50\n",
            "\u001b[1m3985/3985\u001b[0m \u001b[32m━━━━━━━━━━━━━━━━━━━━\u001b[0m\u001b[37m\u001b[0m \u001b[1m9s\u001b[0m 2ms/step - accuracy: 0.7920 - loss: 0.4549 - val_accuracy: 0.7894 - val_loss: 0.4597\n",
            "Epoch 22/50\n",
            "\u001b[1m3985/3985\u001b[0m \u001b[32m━━━━━━━━━━━━━━━━━━━━\u001b[0m\u001b[37m\u001b[0m \u001b[1m11s\u001b[0m 2ms/step - accuracy: 0.7932 - loss: 0.4568 - val_accuracy: 0.7899 - val_loss: 0.4563\n",
            "Epoch 23/50\n",
            "\u001b[1m3985/3985\u001b[0m \u001b[32m━━━━━━━━━━━━━━━━━━━━\u001b[0m\u001b[37m\u001b[0m \u001b[1m10s\u001b[0m 3ms/step - accuracy: 0.7927 - loss: 0.4560 - val_accuracy: 0.7887 - val_loss: 0.4582\n",
            "Epoch 24/50\n",
            "\u001b[1m3985/3985\u001b[0m \u001b[32m━━━━━━━━━━━━━━━━━━━━\u001b[0m\u001b[37m\u001b[0m \u001b[1m9s\u001b[0m 2ms/step - accuracy: 0.7928 - loss: 0.4529 - val_accuracy: 0.7884 - val_loss: 0.4597\n",
            "Epoch 25/50\n",
            "\u001b[1m3985/3985\u001b[0m \u001b[32m━━━━━━━━━━━━━━━━━━━━\u001b[0m\u001b[37m\u001b[0m \u001b[1m9s\u001b[0m 2ms/step - accuracy: 0.7899 - loss: 0.4582 - val_accuracy: 0.7891 - val_loss: 0.4565\n",
            "Epoch 26/50\n",
            "\u001b[1m3985/3985\u001b[0m \u001b[32m━━━━━━━━━━━━━━━━━━━━\u001b[0m\u001b[37m\u001b[0m \u001b[1m11s\u001b[0m 2ms/step - accuracy: 0.7929 - loss: 0.4536 - val_accuracy: 0.7893 - val_loss: 0.4561\n",
            "Epoch 27/50\n",
            "\u001b[1m3985/3985\u001b[0m \u001b[32m━━━━━━━━━━━━━━━━━━━━\u001b[0m\u001b[37m\u001b[0m \u001b[1m10s\u001b[0m 3ms/step - accuracy: 0.7899 - loss: 0.4593 - val_accuracy: 0.7902 - val_loss: 0.4569\n",
            "Epoch 28/50\n",
            "\u001b[1m3985/3985\u001b[0m \u001b[32m━━━━━━━━━━━━━━━━━━━━\u001b[0m\u001b[37m\u001b[0m \u001b[1m20s\u001b[0m 2ms/step - accuracy: 0.7891 - loss: 0.4561 - val_accuracy: 0.7888 - val_loss: 0.4569\n",
            "Epoch 29/50\n",
            "\u001b[1m3985/3985\u001b[0m \u001b[32m━━━━━━━━━━━━━━━━━━━━\u001b[0m\u001b[37m\u001b[0m \u001b[1m9s\u001b[0m 2ms/step - accuracy: 0.7897 - loss: 0.4570 - val_accuracy: 0.7902 - val_loss: 0.4577\n",
            "Epoch 30/50\n",
            "\u001b[1m3985/3985\u001b[0m \u001b[32m━━━━━━━━━━━━━━━━━━━━\u001b[0m\u001b[37m\u001b[0m \u001b[1m10s\u001b[0m 2ms/step - accuracy: 0.7937 - loss: 0.4511 - val_accuracy: 0.7884 - val_loss: 0.4569\n",
            "Epoch 31/50\n",
            "\u001b[1m3985/3985\u001b[0m \u001b[32m━━━━━━━━━━━━━━━━━━━━\u001b[0m\u001b[37m\u001b[0m \u001b[1m12s\u001b[0m 2ms/step - accuracy: 0.7940 - loss: 0.4538 - val_accuracy: 0.7901 - val_loss: 0.4573\n",
            "Epoch 32/50\n",
            "\u001b[1m3985/3985\u001b[0m \u001b[32m━━━━━━━━━━━━━━━━━━━━\u001b[0m\u001b[37m\u001b[0m \u001b[1m10s\u001b[0m 2ms/step - accuracy: 0.7923 - loss: 0.4542 - val_accuracy: 0.7883 - val_loss: 0.4575\n",
            "Epoch 33/50\n",
            "\u001b[1m3985/3985\u001b[0m \u001b[32m━━━━━━━━━━━━━━━━━━━━\u001b[0m\u001b[37m\u001b[0m \u001b[1m10s\u001b[0m 2ms/step - accuracy: 0.7927 - loss: 0.4529 - val_accuracy: 0.7863 - val_loss: 0.4589\n",
            "Epoch 34/50\n",
            "\u001b[1m3985/3985\u001b[0m \u001b[32m━━━━━━━━━━━━━━━━━━━━\u001b[0m\u001b[37m\u001b[0m \u001b[1m10s\u001b[0m 2ms/step - accuracy: 0.7926 - loss: 0.4555 - val_accuracy: 0.7908 - val_loss: 0.4571\n",
            "Epoch 35/50\n",
            "\u001b[1m3985/3985\u001b[0m \u001b[32m━━━━━━━━━━━━━━━━━━━━\u001b[0m\u001b[37m\u001b[0m \u001b[1m10s\u001b[0m 2ms/step - accuracy: 0.7958 - loss: 0.4491 - val_accuracy: 0.7898 - val_loss: 0.4571\n",
            "Epoch 36/50\n",
            "\u001b[1m3985/3985\u001b[0m \u001b[32m━━━━━━━━━━━━━━━━━━━━\u001b[0m\u001b[37m\u001b[0m \u001b[1m9s\u001b[0m 2ms/step - accuracy: 0.7926 - loss: 0.4524 - val_accuracy: 0.7892 - val_loss: 0.4563\n",
            "Epoch 37/50\n",
            "\u001b[1m3985/3985\u001b[0m \u001b[32m━━━━━━━━━━━━━━━━━━━━\u001b[0m\u001b[37m\u001b[0m \u001b[1m10s\u001b[0m 2ms/step - accuracy: 0.7945 - loss: 0.4539 - val_accuracy: 0.7903 - val_loss: 0.4564\n",
            "Epoch 38/50\n",
            "\u001b[1m3985/3985\u001b[0m \u001b[32m━━━━━━━━━━━━━━━━━━━━\u001b[0m\u001b[37m\u001b[0m \u001b[1m10s\u001b[0m 2ms/step - accuracy: 0.7937 - loss: 0.4520 - val_accuracy: 0.7883 - val_loss: 0.4588\n",
            "Epoch 39/50\n",
            "\u001b[1m3985/3985\u001b[0m \u001b[32m━━━━━━━━━━━━━━━━━━━━\u001b[0m\u001b[37m\u001b[0m \u001b[1m10s\u001b[0m 2ms/step - accuracy: 0.7933 - loss: 0.4510 - val_accuracy: 0.7900 - val_loss: 0.4570\n",
            "Epoch 40/50\n",
            "\u001b[1m3985/3985\u001b[0m \u001b[32m━━━━━━━━━━━━━━━━━━━━\u001b[0m\u001b[37m\u001b[0m \u001b[1m10s\u001b[0m 3ms/step - accuracy: 0.7956 - loss: 0.4526 - val_accuracy: 0.7891 - val_loss: 0.4558\n",
            "Epoch 41/50\n",
            "\u001b[1m3985/3985\u001b[0m \u001b[32m━━━━━━━━━━━━━━━━━━━━\u001b[0m\u001b[37m\u001b[0m \u001b[1m10s\u001b[0m 3ms/step - accuracy: 0.7936 - loss: 0.4565 - val_accuracy: 0.7897 - val_loss: 0.4561\n",
            "Epoch 42/50\n",
            "\u001b[1m3985/3985\u001b[0m \u001b[32m━━━━━━━━━━━━━━━━━━━━\u001b[0m\u001b[37m\u001b[0m \u001b[1m9s\u001b[0m 2ms/step - accuracy: 0.7948 - loss: 0.4533 - val_accuracy: 0.7897 - val_loss: 0.4567\n",
            "Epoch 43/50\n",
            "\u001b[1m3985/3985\u001b[0m \u001b[32m━━━━━━━━━━━━━━━━━━━━\u001b[0m\u001b[37m\u001b[0m \u001b[1m8s\u001b[0m 2ms/step - accuracy: 0.7926 - loss: 0.4566 - val_accuracy: 0.7875 - val_loss: 0.4579\n",
            "Epoch 44/50\n",
            "\u001b[1m3985/3985\u001b[0m \u001b[32m━━━━━━━━━━━━━━━━━━━━\u001b[0m\u001b[37m\u001b[0m \u001b[1m9s\u001b[0m 2ms/step - accuracy: 0.7938 - loss: 0.4512 - val_accuracy: 0.7864 - val_loss: 0.4586\n",
            "Epoch 45/50\n",
            "\u001b[1m3985/3985\u001b[0m \u001b[32m━━━━━━━━━━━━━━━━━━━━\u001b[0m\u001b[37m\u001b[0m \u001b[1m10s\u001b[0m 2ms/step - accuracy: 0.7939 - loss: 0.4529 - val_accuracy: 0.7911 - val_loss: 0.4569\n",
            "Epoch 46/50\n",
            "\u001b[1m3985/3985\u001b[0m \u001b[32m━━━━━━━━━━━━━━━━━━━━\u001b[0m\u001b[37m\u001b[0m \u001b[1m9s\u001b[0m 2ms/step - accuracy: 0.7942 - loss: 0.4560 - val_accuracy: 0.7899 - val_loss: 0.4566\n",
            "Epoch 47/50\n",
            "\u001b[1m3985/3985\u001b[0m \u001b[32m━━━━━━━━━━━━━━━━━━━━\u001b[0m\u001b[37m\u001b[0m \u001b[1m9s\u001b[0m 2ms/step - accuracy: 0.7925 - loss: 0.4541 - val_accuracy: 0.7913 - val_loss: 0.4566\n",
            "Epoch 48/50\n",
            "\u001b[1m3985/3985\u001b[0m \u001b[32m━━━━━━━━━━━━━━━━━━━━\u001b[0m\u001b[37m\u001b[0m \u001b[1m9s\u001b[0m 2ms/step - accuracy: 0.7955 - loss: 0.4494 - val_accuracy: 0.7904 - val_loss: 0.4573\n",
            "Epoch 49/50\n",
            "\u001b[1m3985/3985\u001b[0m \u001b[32m━━━━━━━━━━━━━━━━━━━━\u001b[0m\u001b[37m\u001b[0m \u001b[1m11s\u001b[0m 2ms/step - accuracy: 0.7922 - loss: 0.4555 - val_accuracy: 0.7912 - val_loss: 0.4565\n",
            "Epoch 50/50\n",
            "\u001b[1m3985/3985\u001b[0m \u001b[32m━━━━━━━━━━━━━━━━━━━━\u001b[0m\u001b[37m\u001b[0m \u001b[1m8s\u001b[0m 2ms/step - accuracy: 0.7940 - loss: 0.4498 - val_accuracy: 0.7908 - val_loss: 0.4552\n"
          ]
        },
        {
          "output_type": "display_data",
          "data": {
            "text/plain": [
              "<Figure size 640x480 with 1 Axes>"
            ],
            "image/png": "[encoded data removed]"
          },
          "metadata": {}
        }
      ]
    },
    {
      "cell_type": "markdown",
      "source": [
        "Test Accuracy of CNN"
      ],
      "metadata": {
        "id": "jz3Vt_RYAluq"
      }
    },
    {
      "cell_type": "code",
      "source": [
        "scores_CNN = CNN_model.evaluate(X_test, y_test)"
      ],
      "metadata": {
        "id": "dUcWZyDRAow1",
        "colab": {
          "base_uri": "https://localhost:8080/"
        },
        "outputId": "be645f25-f303-4c6d-fdb5-e116bd2a8ea6"
      },
      "execution_count": null,
      "outputs": [
        {
          "output_type": "stream",
          "name": "stdout",
          "text": [
            "\u001b[1m416/416\u001b[0m \u001b[32m━━━━━━━━━━━━━━━━━━━━\u001b[0m\u001b[37m\u001b[0m \u001b[1m1s\u001b[0m 1ms/step - accuracy: 0.7917 - loss: 0.4575\n"
          ]
        }
      ]
    },
    {
      "cell_type": "markdown",
      "source": [
        "F1 Score for CNN"
      ],
      "metadata": {
        "id": "t-Ugf2HqcEsH"
      }
    },
    {
      "cell_type": "code",
      "source": [
        "CNN_pred = np.round(CNN_model.predict(X_test)).astype(int)\n",
        "print(\"F1 score:\", f1_score(y_test, CNN_pred))"
      ],
      "metadata": {
        "id": "5B-IwThacERf",
        "colab": {
          "base_uri": "https://localhost:8080/"
        },
        "outputId": "e8891ef5-b65d-430f-ef79-e4f6b2babbd0"
      },
      "execution_count": null,
      "outputs": [
        {
          "output_type": "stream",
          "name": "stdout",
          "text": [
            "\u001b[1m416/416\u001b[0m \u001b[32m━━━━━━━━━━━━━━━━━━━━\u001b[0m\u001b[37m\u001b[0m \u001b[1m1s\u001b[0m 2ms/step\n",
            "F1 score: 0.6662663624354509\n"
          ]
        }
      ]
    },
    {
      "cell_type": "markdown",
      "source": [
        "**SMOTE for Imbalanced Classes**"
      ],
      "metadata": {
        "id": "-pMEJTnxUJ5G"
      }
    },
    {
      "cell_type": "code",
      "source": [
        "from imblearn.over_sampling import SMOTE\n",
        "\n",
        "sm = SMOTE(random_state=42)\n",
        "X_train_sm, y_train_sm = sm.fit_resample(X_train, y_train)"
      ],
      "metadata": {
        "id": "yYO2ftHfUJCU"
      },
      "execution_count": null,
      "outputs": []
    },
    {
      "cell_type": "markdown",
      "source": [
        "**4. Neural Network Model (w/ SMOTE)**"
      ],
      "metadata": {
        "id": "hu1CP8_d-s97"
      }
    },
    {
      "cell_type": "code",
      "source": [
        "NN_model_sm = Sequential()\n",
        "NN_model_sm.add(Dense(10, input_dim=X.shape[1], activation='relu'))\n",
        "NN_model_sm.add(Dense(10, activation='relu'))\n",
        "NN_model_sm.add(Dense(10, activation='relu'))\n",
        "NN_model_sm.add(Dense(10, activation='relu'))\n",
        "NN_model_sm.add(Dense(1, activation='sigmoid'))\n",
        "\n",
        "NN_model_sm.compile(loss='binary_crossentropy', optimizer='adam', metrics=['accuracy'])\n",
        "\n",
        "# Fit model on training data\n",
        "NN_model_sm.fit(X_train_sm, y_train_sm, epochs=10, batch_size=10)"
      ],
      "metadata": {
        "colab": {
          "base_uri": "https://localhost:8080/"
        },
        "id": "_sJFlEu--snC",
        "outputId": "6672af5e-327f-4623-91a2-c41dd4a060a5"
      },
      "execution_count": null,
      "outputs": [
        {
          "output_type": "stream",
          "name": "stdout",
          "text": [
            "Epoch 1/10\n"
          ]
        },
        {
          "output_type": "stream",
          "name": "stderr",
          "text": [
            "/usr/local/lib/python3.10/dist-packages/keras/src/layers/core/dense.py:87: UserWarning: Do not pass an `input_shape`/`input_dim` argument to a layer. When using Sequential models, prefer using an `Input(shape)` object as the first layer in the model instead.\n",
            "  super().__init__(activity_regularizer=activity_regularizer, **kwargs)\n"
          ]
        },
        {
          "output_type": "stream",
          "name": "stdout",
          "text": [
            "\u001b[1m5291/5291\u001b[0m \u001b[32m━━━━━━━━━━━━━━━━━━━━\u001b[0m\u001b[37m\u001b[0m \u001b[1m12s\u001b[0m 2ms/step - accuracy: 0.7418 - loss: 0.5269\n",
            "Epoch 2/10\n",
            "\u001b[1m5291/5291\u001b[0m \u001b[32m━━━━━━━━━━━━━━━━━━━━\u001b[0m\u001b[37m\u001b[0m \u001b[1m19s\u001b[0m 2ms/step - accuracy: 0.7652 - loss: 0.4929\n",
            "Epoch 3/10\n",
            "\u001b[1m5291/5291\u001b[0m \u001b[32m━━━━━━━━━━━━━━━━━━━━\u001b[0m\u001b[37m\u001b[0m \u001b[1m9s\u001b[0m 2ms/step - accuracy: 0.7629 - loss: 0.4948\n",
            "Epoch 4/10\n",
            "\u001b[1m5291/5291\u001b[0m \u001b[32m━━━━━━━━━━━━━━━━━━━━\u001b[0m\u001b[37m\u001b[0m \u001b[1m11s\u001b[0m 2ms/step - accuracy: 0.7649 - loss: 0.4905\n",
            "Epoch 5/10\n",
            "\u001b[1m5291/5291\u001b[0m \u001b[32m━━━━━━━━━━━━━━━━━━━━\u001b[0m\u001b[37m\u001b[0m \u001b[1m10s\u001b[0m 2ms/step - accuracy: 0.7623 - loss: 0.4936\n",
            "Epoch 6/10\n",
            "\u001b[1m5291/5291\u001b[0m \u001b[32m━━━━━━━━━━━━━━━━━━━━\u001b[0m\u001b[37m\u001b[0m \u001b[1m10s\u001b[0m 2ms/step - accuracy: 0.7648 - loss: 0.4921\n",
            "Epoch 7/10\n",
            "\u001b[1m5291/5291\u001b[0m \u001b[32m━━━━━━━━━━━━━━━━━━━━\u001b[0m\u001b[37m\u001b[0m \u001b[1m9s\u001b[0m 2ms/step - accuracy: 0.7636 - loss: 0.4898\n",
            "Epoch 8/10\n",
            "\u001b[1m5291/5291\u001b[0m \u001b[32m━━━━━━━━━━━━━━━━━━━━\u001b[0m\u001b[37m\u001b[0m \u001b[1m10s\u001b[0m 2ms/step - accuracy: 0.7652 - loss: 0.4914\n",
            "Epoch 9/10\n",
            "\u001b[1m5291/5291\u001b[0m \u001b[32m━━━━━━━━━━━━━━━━━━━━\u001b[0m\u001b[37m\u001b[0m \u001b[1m10s\u001b[0m 2ms/step - accuracy: 0.7663 - loss: 0.4879\n",
            "Epoch 10/10\n",
            "\u001b[1m5291/5291\u001b[0m \u001b[32m━━━━━━━━━━━━━━━━━━━━\u001b[0m\u001b[37m\u001b[0m \u001b[1m10s\u001b[0m 2ms/step - accuracy: 0.7644 - loss: 0.4909\n"
          ]
        },
        {
          "output_type": "execute_result",
          "data": {
            "text/plain": [
              "<keras.src.callbacks.history.History at 0x78b2ed68c2b0>"
            ]
          },
          "metadata": {},
          "execution_count": 17
        }
      ]
    },
    {
      "cell_type": "markdown",
      "source": [
        "Plotting Accuracy"
      ],
      "metadata": {
        "id": "LMNONsUuoBaZ"
      }
    },
    {
      "cell_type": "code",
      "source": [
        "# Fit NN_model_sm with 50 epochs and store the history\n",
        "history_sm = NN_model_sm.fit(X_train_sm, y_train_sm, epochs=50, batch_size=10,\n",
        "                       validation_data=(X_test, y_test))\n",
        "\n",
        "# Plot training & validation accuracy values\n",
        "plt.plot(history_sm.history['accuracy'])\n",
        "plt.plot(history_sm.history['val_accuracy'])\n",
        "plt.title('Neural Network Model (with SMOTE) Accuracy')\n",
        "plt.ylabel('Accuracy')\n",
        "plt.xlabel('Epoch')\n",
        "plt.legend(['Train', 'Test'], loc='upper left')\n",
        "plt.show()"
      ],
      "metadata": {
        "colab": {
          "base_uri": "https://localhost:8080/",
          "height": 1000
        },
        "id": "Xdlx1RVanRp1",
        "outputId": "0a7a75e6-227c-49c0-f0f9-c7b7ddb4a878"
      },
      "execution_count": null,
      "outputs": [
        {
          "output_type": "stream",
          "name": "stdout",
          "text": [
            "Epoch 1/50\n",
            "\u001b[1m5291/5291\u001b[0m \u001b[32m━━━━━━━━━━━━━━━━━━━━\u001b[0m\u001b[37m\u001b[0m \u001b[1m12s\u001b[0m 2ms/step - accuracy: 0.7677 - loss: 0.4846 - val_accuracy: 0.7725 - val_loss: 0.4933\n",
            "Epoch 2/50\n",
            "\u001b[1m5291/5291\u001b[0m \u001b[32m━━━━━━━━━━━━━━━━━━━━\u001b[0m\u001b[37m\u001b[0m \u001b[1m21s\u001b[0m 2ms/step - accuracy: 0.7655 - loss: 0.4896 - val_accuracy: 0.7686 - val_loss: 0.4873\n",
            "Epoch 3/50\n",
            "\u001b[1m5291/5291\u001b[0m \u001b[32m━━━━━━━━━━━━━━━━━━━━\u001b[0m\u001b[37m\u001b[0m \u001b[1m19s\u001b[0m 2ms/step - accuracy: 0.7659 - loss: 0.4872 - val_accuracy: 0.7630 - val_loss: 0.4983\n",
            "Epoch 4/50\n",
            "\u001b[1m5291/5291\u001b[0m \u001b[32m━━━━━━━━━━━━━━━━━━━━\u001b[0m\u001b[37m\u001b[0m \u001b[1m12s\u001b[0m 2ms/step - accuracy: 0.7677 - loss: 0.4867 - val_accuracy: 0.7656 - val_loss: 0.4978\n",
            "Epoch 5/50\n",
            "\u001b[1m5291/5291\u001b[0m \u001b[32m━━━━━━━━━━━━━━━━━━━━\u001b[0m\u001b[37m\u001b[0m \u001b[1m20s\u001b[0m 2ms/step - accuracy: 0.7671 - loss: 0.4875 - val_accuracy: 0.7695 - val_loss: 0.4846\n",
            "Epoch 6/50\n",
            "\u001b[1m5291/5291\u001b[0m \u001b[32m━━━━━━━━━━━━━━━━━━━━\u001b[0m\u001b[37m\u001b[0m \u001b[1m20s\u001b[0m 2ms/step - accuracy: 0.7668 - loss: 0.4870 - val_accuracy: 0.7614 - val_loss: 0.5053\n",
            "Epoch 7/50\n",
            "\u001b[1m5291/5291\u001b[0m \u001b[32m━━━━━━━━━━━━━━━━━━━━\u001b[0m\u001b[37m\u001b[0m \u001b[1m21s\u001b[0m 2ms/step - accuracy: 0.7668 - loss: 0.4840 - val_accuracy: 0.7841 - val_loss: 0.4697\n",
            "Epoch 8/50\n",
            "\u001b[1m5291/5291\u001b[0m \u001b[32m━━━━━━━━━━━━━━━━━━━━\u001b[0m\u001b[37m\u001b[0m \u001b[1m21s\u001b[0m 2ms/step - accuracy: 0.7646 - loss: 0.4896 - val_accuracy: 0.7663 - val_loss: 0.4945\n",
            "Epoch 9/50\n",
            "\u001b[1m5291/5291\u001b[0m \u001b[32m━━━━━━━━━━━━━━━━━━━━\u001b[0m\u001b[37m\u001b[0m \u001b[1m12s\u001b[0m 2ms/step - accuracy: 0.7664 - loss: 0.4872 - val_accuracy: 0.7813 - val_loss: 0.4770\n",
            "Epoch 10/50\n",
            "\u001b[1m5291/5291\u001b[0m \u001b[32m━━━━━━━━━━━━━━━━━━━━\u001b[0m\u001b[37m\u001b[0m \u001b[1m12s\u001b[0m 2ms/step - accuracy: 0.7694 - loss: 0.4853 - val_accuracy: 0.7769 - val_loss: 0.4843\n",
            "Epoch 11/50\n",
            "\u001b[1m5291/5291\u001b[0m \u001b[32m━━━━━━━━━━━━━━━━━━━━\u001b[0m\u001b[37m\u001b[0m \u001b[1m12s\u001b[0m 2ms/step - accuracy: 0.7670 - loss: 0.4872 - val_accuracy: 0.7673 - val_loss: 0.4937\n",
            "Epoch 12/50\n",
            "\u001b[1m5291/5291\u001b[0m \u001b[32m━━━━━━━━━━━━━━━━━━━━\u001b[0m\u001b[37m\u001b[0m \u001b[1m12s\u001b[0m 2ms/step - accuracy: 0.7646 - loss: 0.4883 - val_accuracy: 0.7526 - val_loss: 0.5153\n",
            "Epoch 13/50\n",
            "\u001b[1m5291/5291\u001b[0m \u001b[32m━━━━━━━━━━━━━━━━━━━━\u001b[0m\u001b[37m\u001b[0m \u001b[1m21s\u001b[0m 2ms/step - accuracy: 0.7650 - loss: 0.4870 - val_accuracy: 0.7734 - val_loss: 0.4843\n",
            "Epoch 14/50\n",
            "\u001b[1m5291/5291\u001b[0m \u001b[32m━━━━━━━━━━━━━━━━━━━━\u001b[0m\u001b[37m\u001b[0m \u001b[1m12s\u001b[0m 2ms/step - accuracy: 0.7664 - loss: 0.4860 - val_accuracy: 0.7625 - val_loss: 0.4980\n",
            "Epoch 15/50\n",
            "\u001b[1m5291/5291\u001b[0m \u001b[32m━━━━━━━━━━━━━━━━━━━━\u001b[0m\u001b[37m\u001b[0m \u001b[1m20s\u001b[0m 2ms/step - accuracy: 0.7646 - loss: 0.4871 - val_accuracy: 0.7731 - val_loss: 0.4885\n",
            "Epoch 16/50\n",
            "\u001b[1m5291/5291\u001b[0m \u001b[32m━━━━━━━━━━━━━━━━━━━━\u001b[0m\u001b[37m\u001b[0m \u001b[1m21s\u001b[0m 2ms/step - accuracy: 0.7666 - loss: 0.4852 - val_accuracy: 0.7616 - val_loss: 0.5089\n",
            "Epoch 17/50\n",
            "\u001b[1m5291/5291\u001b[0m \u001b[32m━━━━━━━━━━━━━━━━━━━━\u001b[0m\u001b[37m\u001b[0m \u001b[1m13s\u001b[0m 2ms/step - accuracy: 0.7653 - loss: 0.4867 - val_accuracy: 0.7719 - val_loss: 0.4903\n",
            "Epoch 18/50\n",
            "\u001b[1m5291/5291\u001b[0m \u001b[32m━━━━━━━━━━━━━━━━━━━━\u001b[0m\u001b[37m\u001b[0m \u001b[1m13s\u001b[0m 2ms/step - accuracy: 0.7663 - loss: 0.4869 - val_accuracy: 0.7759 - val_loss: 0.4825\n",
            "Epoch 19/50\n",
            "\u001b[1m5291/5291\u001b[0m \u001b[32m━━━━━━━━━━━━━━━━━━━━\u001b[0m\u001b[37m\u001b[0m \u001b[1m13s\u001b[0m 2ms/step - accuracy: 0.7674 - loss: 0.4855 - val_accuracy: 0.7804 - val_loss: 0.4754\n",
            "Epoch 20/50\n",
            "\u001b[1m5291/5291\u001b[0m \u001b[32m━━━━━━━━━━━━━━━━━━━━\u001b[0m\u001b[37m\u001b[0m \u001b[1m12s\u001b[0m 2ms/step - accuracy: 0.7665 - loss: 0.4860 - val_accuracy: 0.7661 - val_loss: 0.4991\n",
            "Epoch 21/50\n",
            "\u001b[1m5291/5291\u001b[0m \u001b[32m━━━━━━━━━━━━━━━━━━━━\u001b[0m\u001b[37m\u001b[0m \u001b[1m13s\u001b[0m 2ms/step - accuracy: 0.7648 - loss: 0.4895 - val_accuracy: 0.7815 - val_loss: 0.4727\n",
            "Epoch 22/50\n",
            "\u001b[1m5291/5291\u001b[0m \u001b[32m━━━━━━━━━━━━━━━━━━━━\u001b[0m\u001b[37m\u001b[0m \u001b[1m20s\u001b[0m 2ms/step - accuracy: 0.7672 - loss: 0.4840 - val_accuracy: 0.7597 - val_loss: 0.5044\n",
            "Epoch 23/50\n",
            "\u001b[1m5291/5291\u001b[0m \u001b[32m━━━━━━━━━━━━━━━━━━━━\u001b[0m\u001b[37m\u001b[0m \u001b[1m12s\u001b[0m 2ms/step - accuracy: 0.7649 - loss: 0.4888 - val_accuracy: 0.7796 - val_loss: 0.4768\n",
            "Epoch 24/50\n",
            "\u001b[1m5291/5291\u001b[0m \u001b[32m━━━━━━━━━━━━━━━━━━━━\u001b[0m\u001b[37m\u001b[0m \u001b[1m12s\u001b[0m 2ms/step - accuracy: 0.7685 - loss: 0.4857 - val_accuracy: 0.7740 - val_loss: 0.4936\n",
            "Epoch 25/50\n",
            "\u001b[1m5291/5291\u001b[0m \u001b[32m━━━━━━━━━━━━━━━━━━━━\u001b[0m\u001b[37m\u001b[0m \u001b[1m21s\u001b[0m 2ms/step - accuracy: 0.7630 - loss: 0.4904 - val_accuracy: 0.7762 - val_loss: 0.4934\n",
            "Epoch 26/50\n",
            "\u001b[1m5291/5291\u001b[0m \u001b[32m━━━━━━━━━━━━━━━━━━━━\u001b[0m\u001b[37m\u001b[0m \u001b[1m21s\u001b[0m 2ms/step - accuracy: 0.7629 - loss: 0.4906 - val_accuracy: 0.7639 - val_loss: 0.4948\n",
            "Epoch 27/50\n",
            "\u001b[1m5291/5291\u001b[0m \u001b[32m━━━━━━━━━━━━━━━━━━━━\u001b[0m\u001b[37m\u001b[0m \u001b[1m19s\u001b[0m 2ms/step - accuracy: 0.7673 - loss: 0.4844 - val_accuracy: 0.7768 - val_loss: 0.4790\n",
            "Epoch 28/50\n",
            "\u001b[1m5291/5291\u001b[0m \u001b[32m━━━━━━━━━━━━━━━━━━━━\u001b[0m\u001b[37m\u001b[0m \u001b[1m21s\u001b[0m 2ms/step - accuracy: 0.7688 - loss: 0.4833 - val_accuracy: 0.7699 - val_loss: 0.4900\n",
            "Epoch 29/50\n",
            "\u001b[1m5291/5291\u001b[0m \u001b[32m━━━━━━━━━━━━━━━━━━━━\u001b[0m\u001b[37m\u001b[0m \u001b[1m13s\u001b[0m 2ms/step - accuracy: 0.7644 - loss: 0.4895 - val_accuracy: 0.7826 - val_loss: 0.4767\n",
            "Epoch 30/50\n",
            "\u001b[1m5291/5291\u001b[0m \u001b[32m━━━━━━━━━━━━━━━━━━━━\u001b[0m\u001b[37m\u001b[0m \u001b[1m20s\u001b[0m 2ms/step - accuracy: 0.7702 - loss: 0.4835 - val_accuracy: 0.7591 - val_loss: 0.5035\n",
            "Epoch 31/50\n",
            "\u001b[1m5291/5291\u001b[0m \u001b[32m━━━━━━━━━━━━━━━━━━━━\u001b[0m\u001b[37m\u001b[0m \u001b[1m12s\u001b[0m 2ms/step - accuracy: 0.7679 - loss: 0.4853 - val_accuracy: 0.7665 - val_loss: 0.4981\n",
            "Epoch 32/50\n",
            "\u001b[1m5291/5291\u001b[0m \u001b[32m━━━━━━━━━━━━━━━━━━━━\u001b[0m\u001b[37m\u001b[0m \u001b[1m22s\u001b[0m 2ms/step - accuracy: 0.7683 - loss: 0.4833 - val_accuracy: 0.7799 - val_loss: 0.4795\n",
            "Epoch 33/50\n",
            "\u001b[1m5291/5291\u001b[0m \u001b[32m━━━━━━━━━━━━━━━━━━━━\u001b[0m\u001b[37m\u001b[0m \u001b[1m20s\u001b[0m 2ms/step - accuracy: 0.7681 - loss: 0.4846 - val_accuracy: 0.7762 - val_loss: 0.4830\n",
            "Epoch 34/50\n",
            "\u001b[1m5291/5291\u001b[0m \u001b[32m━━━━━━━━━━━━━━━━━━━━\u001b[0m\u001b[37m\u001b[0m \u001b[1m12s\u001b[0m 2ms/step - accuracy: 0.7665 - loss: 0.4866 - val_accuracy: 0.7684 - val_loss: 0.4909\n",
            "Epoch 35/50\n",
            "\u001b[1m5291/5291\u001b[0m \u001b[32m━━━━━━━━━━━━━━━━━━━━\u001b[0m\u001b[37m\u001b[0m \u001b[1m12s\u001b[0m 2ms/step - accuracy: 0.7663 - loss: 0.4850 - val_accuracy: 0.7658 - val_loss: 0.4923\n",
            "Epoch 36/50\n",
            "\u001b[1m5291/5291\u001b[0m \u001b[32m━━━━━━━━━━━━━━━━━━━━\u001b[0m\u001b[37m\u001b[0m \u001b[1m21s\u001b[0m 2ms/step - accuracy: 0.7683 - loss: 0.4828 - val_accuracy: 0.7709 - val_loss: 0.4876\n",
            "Epoch 37/50\n",
            "\u001b[1m5291/5291\u001b[0m \u001b[32m━━━━━━━━━━━━━━━━━━━━\u001b[0m\u001b[37m\u001b[0m \u001b[1m13s\u001b[0m 2ms/step - accuracy: 0.7674 - loss: 0.4854 - val_accuracy: 0.7721 - val_loss: 0.4930\n",
            "Epoch 38/50\n",
            "\u001b[1m5291/5291\u001b[0m \u001b[32m━━━━━━━━━━━━━━━━━━━━\u001b[0m\u001b[37m\u001b[0m \u001b[1m20s\u001b[0m 2ms/step - accuracy: 0.7634 - loss: 0.4893 - val_accuracy: 0.7797 - val_loss: 0.4823\n",
            "Epoch 39/50\n",
            "\u001b[1m5291/5291\u001b[0m \u001b[32m━━━━━━━━━━━━━━━━━━━━\u001b[0m\u001b[37m\u001b[0m \u001b[1m20s\u001b[0m 2ms/step - accuracy: 0.7714 - loss: 0.4817 - val_accuracy: 0.7771 - val_loss: 0.4858\n",
            "Epoch 40/50\n",
            "\u001b[1m5291/5291\u001b[0m \u001b[32m━━━━━━━━━━━━━━━━━━━━\u001b[0m\u001b[37m\u001b[0m \u001b[1m13s\u001b[0m 2ms/step - accuracy: 0.7672 - loss: 0.4877 - val_accuracy: 0.7769 - val_loss: 0.4878\n",
            "Epoch 41/50\n",
            "\u001b[1m5291/5291\u001b[0m \u001b[32m━━━━━━━━━━━━━━━━━━━━\u001b[0m\u001b[37m\u001b[0m \u001b[1m12s\u001b[0m 2ms/step - accuracy: 0.7668 - loss: 0.4852 - val_accuracy: 0.7725 - val_loss: 0.4873\n",
            "Epoch 42/50\n",
            "\u001b[1m5291/5291\u001b[0m \u001b[32m━━━━━━━━━━━━━━━━━━━━\u001b[0m\u001b[37m\u001b[0m \u001b[1m13s\u001b[0m 2ms/step - accuracy: 0.7676 - loss: 0.4826 - val_accuracy: 0.7746 - val_loss: 0.4833\n",
            "Epoch 43/50\n",
            "\u001b[1m5291/5291\u001b[0m \u001b[32m━━━━━━━━━━━━━━━━━━━━\u001b[0m\u001b[37m\u001b[0m \u001b[1m23s\u001b[0m 3ms/step - accuracy: 0.7688 - loss: 0.4874 - val_accuracy: 0.7637 - val_loss: 0.5018\n",
            "Epoch 44/50\n",
            "\u001b[1m5291/5291\u001b[0m \u001b[32m━━━━━━━━━━━━━━━━━━━━\u001b[0m\u001b[37m\u001b[0m \u001b[1m18s\u001b[0m 2ms/step - accuracy: 0.7676 - loss: 0.4838 - val_accuracy: 0.7710 - val_loss: 0.4864\n",
            "Epoch 45/50\n",
            "\u001b[1m5291/5291\u001b[0m \u001b[32m━━━━━━━━━━━━━━━━━━━━\u001b[0m\u001b[37m\u001b[0m \u001b[1m21s\u001b[0m 2ms/step - accuracy: 0.7659 - loss: 0.4851 - val_accuracy: 0.7763 - val_loss: 0.4888\n",
            "Epoch 46/50\n",
            "\u001b[1m5291/5291\u001b[0m \u001b[32m━━━━━━━━━━━━━━━━━━━━\u001b[0m\u001b[37m\u001b[0m \u001b[1m19s\u001b[0m 2ms/step - accuracy: 0.7686 - loss: 0.4809 - val_accuracy: 0.7798 - val_loss: 0.4824\n",
            "Epoch 47/50\n",
            "\u001b[1m5291/5291\u001b[0m \u001b[32m━━━━━━━━━━━━━━━━━━━━\u001b[0m\u001b[37m\u001b[0m \u001b[1m11s\u001b[0m 2ms/step - accuracy: 0.7686 - loss: 0.4827 - val_accuracy: 0.7742 - val_loss: 0.4862\n",
            "Epoch 48/50\n",
            "\u001b[1m5291/5291\u001b[0m \u001b[32m━━━━━━━━━━━━━━━━━━━━\u001b[0m\u001b[37m\u001b[0m \u001b[1m22s\u001b[0m 2ms/step - accuracy: 0.7655 - loss: 0.4850 - val_accuracy: 0.7625 - val_loss: 0.5019\n",
            "Epoch 49/50\n",
            "\u001b[1m5291/5291\u001b[0m \u001b[32m━━━━━━━━━━━━━━━━━━━━\u001b[0m\u001b[37m\u001b[0m \u001b[1m12s\u001b[0m 2ms/step - accuracy: 0.7694 - loss: 0.4807 - val_accuracy: 0.7786 - val_loss: 0.4895\n",
            "Epoch 50/50\n",
            "\u001b[1m5291/5291\u001b[0m \u001b[32m━━━━━━━━━━━━━━━━━━━━\u001b[0m\u001b[37m\u001b[0m \u001b[1m13s\u001b[0m 2ms/step - accuracy: 0.7680 - loss: 0.4885 - val_accuracy: 0.7750 - val_loss: 0.4843\n"
          ]
        },
        {
          "output_type": "display_data",
          "data": {
            "text/plain": [
              "<Figure size 640x480 with 1 Axes>"
            ],
            "image/png": "[encoded data removed]"
          },
          "metadata": {}
        }
      ]
    },
    {
      "cell_type": "markdown",
      "source": [
        "Test Accuracy of NN model with SMOTE"
      ],
      "metadata": {
        "id": "YUKI8b2J_Wlx"
      }
    },
    {
      "cell_type": "code",
      "source": [
        "scores_NN_sm = NN_model_sm.evaluate(X_test, y_test)"
      ],
      "metadata": {
        "colab": {
          "base_uri": "https://localhost:8080/"
        },
        "id": "BCzxBgc6_eKH",
        "outputId": "8f221da6-e560-4e09-aa5b-ac0370c4b7dd"
      },
      "execution_count": null,
      "outputs": [
        {
          "output_type": "stream",
          "name": "stdout",
          "text": [
            "\u001b[1m416/416\u001b[0m \u001b[32m━━━━━━━━━━━━━━━━━━━━\u001b[0m\u001b[37m\u001b[0m \u001b[1m1s\u001b[0m 2ms/step - accuracy: 0.7768 - loss: 0.4747\n"
          ]
        }
      ]
    },
    {
      "cell_type": "markdown",
      "source": [
        "F1 Score of NN model with SMOTE"
      ],
      "metadata": {
        "id": "EvhEWyIIBsjA"
      }
    },
    {
      "cell_type": "code",
      "source": [
        "NN_sm_pred = np.round(NN_model_sm.predict(X_test)).astype(int)\n",
        "print(\"F1 score:\", f1_score(y_test, NN_sm_pred))"
      ],
      "metadata": {
        "colab": {
          "base_uri": "https://localhost:8080/"
        },
        "id": "GmdryA8SBzKu",
        "outputId": "7a8f6fe1-08e6-4435-9c3d-a3aaba88e36f"
      },
      "execution_count": null,
      "outputs": [
        {
          "output_type": "stream",
          "name": "stdout",
          "text": [
            "\u001b[1m416/416\u001b[0m \u001b[32m━━━━━━━━━━━━━━━━━━━━\u001b[0m\u001b[37m\u001b[0m \u001b[1m1s\u001b[0m 1ms/step\n",
            "F1 score: 0.6898011002962336\n"
          ]
        }
      ]
    },
    {
      "cell_type": "markdown",
      "source": [
        "**5. Convolutional Neural Network (w/ SMOTE)**"
      ],
      "metadata": {
        "id": "1mtM2KeJg_gg"
      }
    },
    {
      "cell_type": "code",
      "source": [
        "CNN_model_sm = Sequential()\n",
        "CNN_model_sm.add(Conv1D(filters=64, kernel_size=2, activation='relu', input_shape=(X.shape[1], 1)))\n",
        "CNN_model_sm.add(MaxPooling1D(pool_size=2))\n",
        "CNN_model_sm.add(Flatten())\n",
        "CNN_model_sm.add(Dense(15, activation='relu'))\n",
        "CNN_model_sm.add(Dense(1, activation='sigmoid'))\n",
        "\n",
        "CNN_model_sm.compile(loss='binary_crossentropy', optimizer='adam', metrics=['accuracy'])\n",
        "\n",
        "# Fit model on training data\n",
        "CNN_model_sm.fit(X_train, y_train, epochs=10, batch_size=10)"
      ],
      "metadata": {
        "colab": {
          "base_uri": "https://localhost:8080/"
        },
        "id": "I22G6mWshM5m",
        "outputId": "79a68c42-0222-4753-c757-3c93b70fcdeb"
      },
      "execution_count": null,
      "outputs": [
        {
          "output_type": "stream",
          "name": "stdout",
          "text": [
            "Epoch 1/10\n"
          ]
        },
        {
          "output_type": "stream",
          "name": "stderr",
          "text": [
            "/usr/local/lib/python3.10/dist-packages/keras/src/layers/convolutional/base_conv.py:107: UserWarning: Do not pass an `input_shape`/`input_dim` argument to a layer. When using Sequential models, prefer using an `Input(shape)` object as the first layer in the model instead.\n",
            "  super().__init__(activity_regularizer=activity_regularizer, **kwargs)\n"
          ]
        },
        {
          "output_type": "stream",
          "name": "stdout",
          "text": [
            "\u001b[1m3985/3985\u001b[0m \u001b[32m━━━━━━━━━━━━━━━━━━━━\u001b[0m\u001b[37m\u001b[0m \u001b[1m9s\u001b[0m 2ms/step - accuracy: 0.7723 - loss: 0.4952\n",
            "Epoch 2/10\n",
            "\u001b[1m3985/3985\u001b[0m \u001b[32m━━━━━━━━━━━━━━━━━━━━\u001b[0m\u001b[37m\u001b[0m \u001b[1m9s\u001b[0m 2ms/step - accuracy: 0.7865 - loss: 0.4661\n",
            "Epoch 3/10\n",
            "\u001b[1m3985/3985\u001b[0m \u001b[32m━━━━━━━━━━━━━━━━━━━━\u001b[0m\u001b[37m\u001b[0m \u001b[1m10s\u001b[0m 2ms/step - accuracy: 0.7893 - loss: 0.4591\n",
            "Epoch 4/10\n",
            "\u001b[1m3985/3985\u001b[0m \u001b[32m━━━━━━━━━━━━━━━━━━━━\u001b[0m\u001b[37m\u001b[0m \u001b[1m8s\u001b[0m 2ms/step - accuracy: 0.7874 - loss: 0.4660\n",
            "Epoch 5/10\n",
            "\u001b[1m3985/3985\u001b[0m \u001b[32m━━━━━━━━━━━━━━━━━━━━\u001b[0m\u001b[37m\u001b[0m \u001b[1m10s\u001b[0m 2ms/step - accuracy: 0.7869 - loss: 0.4657\n",
            "Epoch 6/10\n",
            "\u001b[1m3985/3985\u001b[0m \u001b[32m━━━━━━━━━━━━━━━━━━━━\u001b[0m\u001b[37m\u001b[0m \u001b[1m9s\u001b[0m 2ms/step - accuracy: 0.7869 - loss: 0.4628\n",
            "Epoch 7/10\n",
            "\u001b[1m3985/3985\u001b[0m \u001b[32m━━━━━━━━━━━━━━━━━━━━\u001b[0m\u001b[37m\u001b[0m \u001b[1m10s\u001b[0m 2ms/step - accuracy: 0.7894 - loss: 0.4609\n",
            "Epoch 8/10\n",
            "\u001b[1m3985/3985\u001b[0m \u001b[32m━━━━━━━━━━━━━━━━━━━━\u001b[0m\u001b[37m\u001b[0m \u001b[1m10s\u001b[0m 2ms/step - accuracy: 0.7919 - loss: 0.4578\n",
            "Epoch 9/10\n",
            "\u001b[1m3985/3985\u001b[0m \u001b[32m━━━━━━━━━━━━━━━━━━━━\u001b[0m\u001b[37m\u001b[0m \u001b[1m11s\u001b[0m 2ms/step - accuracy: 0.7908 - loss: 0.4603\n",
            "Epoch 10/10\n",
            "\u001b[1m3985/3985\u001b[0m \u001b[32m━━━━━━━━━━━━━━━━━━━━\u001b[0m\u001b[37m\u001b[0m \u001b[1m7s\u001b[0m 2ms/step - accuracy: 0.7885 - loss: 0.4601\n"
          ]
        },
        {
          "output_type": "execute_result",
          "data": {
            "text/plain": [
              "<keras.src.callbacks.history.History at 0x78b2f8f82a40>"
            ]
          },
          "metadata": {},
          "execution_count": 21
        }
      ]
    },
    {
      "cell_type": "markdown",
      "source": [
        "Plotting Accuracy"
      ],
      "metadata": {
        "id": "ftEFQc37oDOh"
      }
    },
    {
      "cell_type": "code",
      "source": [
        "# Fit CNN_model_sm with 50 epochs and store the history\n",
        "history_cnn_sm = CNN_model_sm.fit(X_train_sm, y_train_sm, epochs=50, batch_size=10,\n",
        "                            validation_data=(X_test, y_test))\n",
        "\n",
        "# Plot training & validation accuracy values for CNN with SMOTE\n",
        "plt.plot(history_cnn_sm.history['accuracy'])\n",
        "plt.plot(history_cnn_sm.history['val_accuracy'])\n",
        "plt.title('CNN Model (with SMOTE) Accuracy')\n",
        "plt.ylabel('Accuracy')\n",
        "plt.xlabel('Epoch')\n",
        "plt.legend(['Train', 'Test'], loc='upper left')\n",
        "plt.show()"
      ],
      "metadata": {
        "colab": {
          "base_uri": "https://localhost:8080/",
          "height": 1000
        },
        "id": "yiNWbtoTm1MO",
        "outputId": "a3864598-b4c1-4c9e-8375-684ce639d455"
      },
      "execution_count": null,
      "outputs": [
        {
          "output_type": "stream",
          "name": "stdout",
          "text": [
            "Epoch 1/50\n",
            "\u001b[1m5291/5291\u001b[0m \u001b[32m━━━━━━━━━━━━━━━━━━━━\u001b[0m\u001b[37m\u001b[0m \u001b[1m11s\u001b[0m 2ms/step - accuracy: 0.7625 - loss: 0.4947 - val_accuracy: 0.7773 - val_loss: 0.4869\n",
            "Epoch 2/50\n",
            "\u001b[1m5291/5291\u001b[0m \u001b[32m━━━━━━━━━━━━━━━━━━━━\u001b[0m\u001b[37m\u001b[0m \u001b[1m21s\u001b[0m 2ms/step - accuracy: 0.7649 - loss: 0.4892 - val_accuracy: 0.7689 - val_loss: 0.4946\n",
            "Epoch 3/50\n",
            "\u001b[1m5291/5291\u001b[0m \u001b[32m━━━━━━━━━━━━━━━━━━━━\u001b[0m\u001b[37m\u001b[0m \u001b[1m11s\u001b[0m 2ms/step - accuracy: 0.7643 - loss: 0.4924 - val_accuracy: 0.7657 - val_loss: 0.4974\n",
            "Epoch 4/50\n",
            "\u001b[1m5291/5291\u001b[0m \u001b[32m━━━━━━━━━━━━━━━━━━━━\u001b[0m\u001b[37m\u001b[0m \u001b[1m12s\u001b[0m 2ms/step - accuracy: 0.7639 - loss: 0.4896 - val_accuracy: 0.7651 - val_loss: 0.5027\n",
            "Epoch 5/50\n",
            "\u001b[1m5291/5291\u001b[0m \u001b[32m━━━━━━━━━━━━━━━━━━━━\u001b[0m\u001b[37m\u001b[0m \u001b[1m11s\u001b[0m 2ms/step - accuracy: 0.7641 - loss: 0.4944 - val_accuracy: 0.7811 - val_loss: 0.4794\n",
            "Epoch 6/50\n",
            "\u001b[1m5291/5291\u001b[0m \u001b[32m━━━━━━━━━━━━━━━━━━━━\u001b[0m\u001b[37m\u001b[0m \u001b[1m21s\u001b[0m 2ms/step - accuracy: 0.7620 - loss: 0.4897 - val_accuracy: 0.7674 - val_loss: 0.4971\n",
            "Epoch 7/50\n",
            "\u001b[1m5291/5291\u001b[0m \u001b[32m━━━━━━━━━━━━━━━━━━━━\u001b[0m\u001b[37m\u001b[0m \u001b[1m13s\u001b[0m 2ms/step - accuracy: 0.7640 - loss: 0.4899 - val_accuracy: 0.7743 - val_loss: 0.4841\n",
            "Epoch 8/50\n",
            "\u001b[1m5291/5291\u001b[0m \u001b[32m━━━━━━━━━━━━━━━━━━━━\u001b[0m\u001b[37m\u001b[0m \u001b[1m20s\u001b[0m 2ms/step - accuracy: 0.7642 - loss: 0.4931 - val_accuracy: 0.7780 - val_loss: 0.4787\n",
            "Epoch 9/50\n",
            "\u001b[1m5291/5291\u001b[0m \u001b[32m━━━━━━━━━━━━━━━━━━━━\u001b[0m\u001b[37m\u001b[0m \u001b[1m20s\u001b[0m 2ms/step - accuracy: 0.7671 - loss: 0.4882 - val_accuracy: 0.7656 - val_loss: 0.4961\n",
            "Epoch 10/50\n",
            "\u001b[1m5291/5291\u001b[0m \u001b[32m━━━━━━━━━━━━━━━━━━━━\u001b[0m\u001b[37m\u001b[0m \u001b[1m11s\u001b[0m 2ms/step - accuracy: 0.7629 - loss: 0.4914 - val_accuracy: 0.7708 - val_loss: 0.4874\n",
            "Epoch 11/50\n",
            "\u001b[1m5291/5291\u001b[0m \u001b[32m━━━━━━━━━━━━━━━━━━━━\u001b[0m\u001b[37m\u001b[0m \u001b[1m22s\u001b[0m 2ms/step - accuracy: 0.7649 - loss: 0.4871 - val_accuracy: 0.7750 - val_loss: 0.4768\n",
            "Epoch 12/50\n",
            "\u001b[1m5291/5291\u001b[0m \u001b[32m━━━━━━━━━━━━━━━━━━━━\u001b[0m\u001b[37m\u001b[0m \u001b[1m20s\u001b[0m 2ms/step - accuracy: 0.7601 - loss: 0.4954 - val_accuracy: 0.7741 - val_loss: 0.4841\n",
            "Epoch 13/50\n",
            "\u001b[1m5291/5291\u001b[0m \u001b[32m━━━━━━━━━━━━━━━━━━━━\u001b[0m\u001b[37m\u001b[0m \u001b[1m20s\u001b[0m 2ms/step - accuracy: 0.7674 - loss: 0.4874 - val_accuracy: 0.7778 - val_loss: 0.4796\n",
            "Epoch 14/50\n",
            "\u001b[1m5291/5291\u001b[0m \u001b[32m━━━━━━━━━━━━━━━━━━━━\u001b[0m\u001b[37m\u001b[0m \u001b[1m13s\u001b[0m 2ms/step - accuracy: 0.7675 - loss: 0.4853 - val_accuracy: 0.7666 - val_loss: 0.4950\n",
            "Epoch 15/50\n",
            "\u001b[1m5291/5291\u001b[0m \u001b[32m━━━━━━━━━━━━━━━━━━━━\u001b[0m\u001b[37m\u001b[0m \u001b[1m12s\u001b[0m 2ms/step - accuracy: 0.7651 - loss: 0.4899 - val_accuracy: 0.7637 - val_loss: 0.5001\n",
            "Epoch 16/50\n",
            "\u001b[1m5291/5291\u001b[0m \u001b[32m━━━━━━━━━━━━━━━━━━━━\u001b[0m\u001b[37m\u001b[0m \u001b[1m21s\u001b[0m 2ms/step - accuracy: 0.7654 - loss: 0.4881 - val_accuracy: 0.7635 - val_loss: 0.4963\n",
            "Epoch 17/50\n",
            "\u001b[1m5291/5291\u001b[0m \u001b[32m━━━━━━━━━━━━━━━━━━━━\u001b[0m\u001b[37m\u001b[0m \u001b[1m12s\u001b[0m 2ms/step - accuracy: 0.7641 - loss: 0.4936 - val_accuracy: 0.7665 - val_loss: 0.4944\n",
            "Epoch 18/50\n",
            "\u001b[1m5291/5291\u001b[0m \u001b[32m━━━━━━━━━━━━━━━━━━━━\u001b[0m\u001b[37m\u001b[0m \u001b[1m20s\u001b[0m 2ms/step - accuracy: 0.7624 - loss: 0.4919 - val_accuracy: 0.7610 - val_loss: 0.4973\n",
            "Epoch 19/50\n",
            "\u001b[1m5291/5291\u001b[0m \u001b[32m━━━━━━━━━━━━━━━━━━━━\u001b[0m\u001b[37m\u001b[0m \u001b[1m12s\u001b[0m 2ms/step - accuracy: 0.7650 - loss: 0.4867 - val_accuracy: 0.7621 - val_loss: 0.5050\n",
            "Epoch 20/50\n",
            "\u001b[1m5291/5291\u001b[0m \u001b[32m━━━━━━━━━━━━━━━━━━━━\u001b[0m\u001b[37m\u001b[0m \u001b[1m21s\u001b[0m 2ms/step - accuracy: 0.7677 - loss: 0.4880 - val_accuracy: 0.7781 - val_loss: 0.4777\n",
            "Epoch 21/50\n",
            "\u001b[1m5291/5291\u001b[0m \u001b[32m━━━━━━━━━━━━━━━━━━━━\u001b[0m\u001b[37m\u001b[0m \u001b[1m12s\u001b[0m 2ms/step - accuracy: 0.7656 - loss: 0.4853 - val_accuracy: 0.7692 - val_loss: 0.4917\n",
            "Epoch 22/50\n",
            "\u001b[1m5291/5291\u001b[0m \u001b[32m━━━━━━━━━━━━━━━━━━━━\u001b[0m\u001b[37m\u001b[0m \u001b[1m12s\u001b[0m 2ms/step - accuracy: 0.7677 - loss: 0.4870 - val_accuracy: 0.7622 - val_loss: 0.4963\n",
            "Epoch 23/50\n",
            "\u001b[1m5291/5291\u001b[0m \u001b[32m━━━━━━━━━━━━━━━━━━━━\u001b[0m\u001b[37m\u001b[0m \u001b[1m11s\u001b[0m 2ms/step - accuracy: 0.7633 - loss: 0.4891 - val_accuracy: 0.7712 - val_loss: 0.4829\n",
            "Epoch 24/50\n",
            "\u001b[1m5291/5291\u001b[0m \u001b[32m━━━━━━━━━━━━━━━━━━━━\u001b[0m\u001b[37m\u001b[0m \u001b[1m21s\u001b[0m 2ms/step - accuracy: 0.7652 - loss: 0.4883 - val_accuracy: 0.7732 - val_loss: 0.4918\n",
            "Epoch 25/50\n",
            "\u001b[1m5291/5291\u001b[0m \u001b[32m━━━━━━━━━━━━━━━━━━━━\u001b[0m\u001b[37m\u001b[0m \u001b[1m21s\u001b[0m 2ms/step - accuracy: 0.7634 - loss: 0.4879 - val_accuracy: 0.7610 - val_loss: 0.5041\n",
            "Epoch 26/50\n",
            "\u001b[1m5291/5291\u001b[0m \u001b[32m━━━━━━━━━━━━━━━━━━━━\u001b[0m\u001b[37m\u001b[0m \u001b[1m20s\u001b[0m 2ms/step - accuracy: 0.7645 - loss: 0.4884 - val_accuracy: 0.7729 - val_loss: 0.4888\n",
            "Epoch 27/50\n",
            "\u001b[1m5291/5291\u001b[0m \u001b[32m━━━━━━━━━━━━━━━━━━━━\u001b[0m\u001b[37m\u001b[0m \u001b[1m21s\u001b[0m 2ms/step - accuracy: 0.7666 - loss: 0.4858 - val_accuracy: 0.7801 - val_loss: 0.4717\n",
            "Epoch 28/50\n",
            "\u001b[1m5291/5291\u001b[0m \u001b[32m━━━━━━━━━━━━━━━━━━━━\u001b[0m\u001b[37m\u001b[0m \u001b[1m19s\u001b[0m 2ms/step - accuracy: 0.7660 - loss: 0.4871 - val_accuracy: 0.7736 - val_loss: 0.4792\n",
            "Epoch 29/50\n",
            "\u001b[1m5291/5291\u001b[0m \u001b[32m━━━━━━━━━━━━━━━━━━━━\u001b[0m\u001b[37m\u001b[0m \u001b[1m12s\u001b[0m 2ms/step - accuracy: 0.7656 - loss: 0.4867 - val_accuracy: 0.7775 - val_loss: 0.4813\n",
            "Epoch 30/50\n",
            "\u001b[1m5291/5291\u001b[0m \u001b[32m━━━━━━━━━━━━━━━━━━━━\u001b[0m\u001b[37m\u001b[0m \u001b[1m20s\u001b[0m 2ms/step - accuracy: 0.7674 - loss: 0.4873 - val_accuracy: 0.7681 - val_loss: 0.4906\n",
            "Epoch 31/50\n",
            "\u001b[1m5291/5291\u001b[0m \u001b[32m━━━━━━━━━━━━━━━━━━━━\u001b[0m\u001b[37m\u001b[0m \u001b[1m11s\u001b[0m 2ms/step - accuracy: 0.7653 - loss: 0.4869 - val_accuracy: 0.7610 - val_loss: 0.5048\n",
            "Epoch 32/50\n",
            "\u001b[1m5291/5291\u001b[0m \u001b[32m━━━━━━━━━━━━━━━━━━━━\u001b[0m\u001b[37m\u001b[0m \u001b[1m11s\u001b[0m 2ms/step - accuracy: 0.7683 - loss: 0.4843 - val_accuracy: 0.7721 - val_loss: 0.4954\n",
            "Epoch 33/50\n",
            "\u001b[1m5291/5291\u001b[0m \u001b[32m━━━━━━━━━━━━━━━━━━━━\u001b[0m\u001b[37m\u001b[0m \u001b[1m20s\u001b[0m 2ms/step - accuracy: 0.7668 - loss: 0.4834 - val_accuracy: 0.7650 - val_loss: 0.4967\n",
            "Epoch 34/50\n",
            "\u001b[1m5291/5291\u001b[0m \u001b[32m━━━━━━━━━━━━━━━━━━━━\u001b[0m\u001b[37m\u001b[0m \u001b[1m11s\u001b[0m 2ms/step - accuracy: 0.7650 - loss: 0.4879 - val_accuracy: 0.7675 - val_loss: 0.4961\n",
            "Epoch 35/50\n",
            "\u001b[1m5291/5291\u001b[0m \u001b[32m━━━━━━━━━━━━━━━━━━━━\u001b[0m\u001b[37m\u001b[0m \u001b[1m11s\u001b[0m 2ms/step - accuracy: 0.7656 - loss: 0.4883 - val_accuracy: 0.7752 - val_loss: 0.4885\n",
            "Epoch 36/50\n",
            "\u001b[1m5291/5291\u001b[0m \u001b[32m━━━━━━━━━━━━━━━━━━━━\u001b[0m\u001b[37m\u001b[0m \u001b[1m21s\u001b[0m 2ms/step - accuracy: 0.7667 - loss: 0.4877 - val_accuracy: 0.7705 - val_loss: 0.4932\n",
            "Epoch 37/50\n",
            "\u001b[1m5291/5291\u001b[0m \u001b[32m━━━━━━━━━━━━━━━━━━━━\u001b[0m\u001b[37m\u001b[0m \u001b[1m13s\u001b[0m 2ms/step - accuracy: 0.7672 - loss: 0.4865 - val_accuracy: 0.7761 - val_loss: 0.4841\n",
            "Epoch 38/50\n",
            "\u001b[1m5291/5291\u001b[0m \u001b[32m━━━━━━━━━━━━━━━━━━━━\u001b[0m\u001b[37m\u001b[0m \u001b[1m12s\u001b[0m 2ms/step - accuracy: 0.7666 - loss: 0.4857 - val_accuracy: 0.7684 - val_loss: 0.4963\n",
            "Epoch 39/50\n",
            "\u001b[1m5291/5291\u001b[0m \u001b[32m━━━━━━━━━━━━━━━━━━━━\u001b[0m\u001b[37m\u001b[0m \u001b[1m19s\u001b[0m 2ms/step - accuracy: 0.7670 - loss: 0.4865 - val_accuracy: 0.7708 - val_loss: 0.4921\n",
            "Epoch 40/50\n",
            "\u001b[1m5291/5291\u001b[0m \u001b[32m━━━━━━━━━━━━━━━━━━━━\u001b[0m\u001b[37m\u001b[0m \u001b[1m12s\u001b[0m 2ms/step - accuracy: 0.7684 - loss: 0.4842 - val_accuracy: 0.7695 - val_loss: 0.4895\n",
            "Epoch 41/50\n",
            "\u001b[1m5291/5291\u001b[0m \u001b[32m━━━━━━━━━━━━━━━━━━━━\u001b[0m\u001b[37m\u001b[0m \u001b[1m20s\u001b[0m 2ms/step - accuracy: 0.7684 - loss: 0.4849 - val_accuracy: 0.7797 - val_loss: 0.4746\n",
            "Epoch 42/50\n",
            "\u001b[1m5291/5291\u001b[0m \u001b[32m━━━━━━━━━━━━━━━━━━━━\u001b[0m\u001b[37m\u001b[0m \u001b[1m11s\u001b[0m 2ms/step - accuracy: 0.7678 - loss: 0.4836 - val_accuracy: 0.7738 - val_loss: 0.4880\n",
            "Epoch 43/50\n",
            "\u001b[1m5291/5291\u001b[0m \u001b[32m━━━━━━━━━━━━━━━━━━━━\u001b[0m\u001b[37m\u001b[0m \u001b[1m21s\u001b[0m 2ms/step - accuracy: 0.7700 - loss: 0.4838 - val_accuracy: 0.7732 - val_loss: 0.4833\n",
            "Epoch 44/50\n",
            "\u001b[1m5291/5291\u001b[0m \u001b[32m━━━━━━━━━━━━━━━━━━━━\u001b[0m\u001b[37m\u001b[0m \u001b[1m12s\u001b[0m 2ms/step - accuracy: 0.7704 - loss: 0.4825 - val_accuracy: 0.7754 - val_loss: 0.4901\n",
            "Epoch 45/50\n",
            "\u001b[1m5291/5291\u001b[0m \u001b[32m━━━━━━━━━━━━━━━━━━━━\u001b[0m\u001b[37m\u001b[0m \u001b[1m20s\u001b[0m 2ms/step - accuracy: 0.7694 - loss: 0.4842 - val_accuracy: 0.7738 - val_loss: 0.4951\n",
            "Epoch 46/50\n",
            "\u001b[1m5291/5291\u001b[0m \u001b[32m━━━━━━━━━━━━━━━━━━━━\u001b[0m\u001b[37m\u001b[0m \u001b[1m12s\u001b[0m 2ms/step - accuracy: 0.7669 - loss: 0.4873 - val_accuracy: 0.7714 - val_loss: 0.4902\n",
            "Epoch 47/50\n",
            "\u001b[1m5291/5291\u001b[0m \u001b[32m━━━━━━━━━━━━━━━━━━━━\u001b[0m\u001b[37m\u001b[0m \u001b[1m20s\u001b[0m 2ms/step - accuracy: 0.7660 - loss: 0.4857 - val_accuracy: 0.7783 - val_loss: 0.4786\n",
            "Epoch 48/50\n",
            "\u001b[1m5291/5291\u001b[0m \u001b[32m━━━━━━━━━━━━━━━━━━━━\u001b[0m\u001b[37m\u001b[0m \u001b[1m20s\u001b[0m 2ms/step - accuracy: 0.7678 - loss: 0.4848 - val_accuracy: 0.7767 - val_loss: 0.4845\n",
            "Epoch 49/50\n",
            "\u001b[1m5291/5291\u001b[0m \u001b[32m━━━━━━━━━━━━━━━━━━━━\u001b[0m\u001b[37m\u001b[0m \u001b[1m21s\u001b[0m 2ms/step - accuracy: 0.7703 - loss: 0.4835 - val_accuracy: 0.7619 - val_loss: 0.5066\n",
            "Epoch 50/50\n",
            "\u001b[1m5291/5291\u001b[0m \u001b[32m━━━━━━━━━━━━━━━━━━━━\u001b[0m\u001b[37m\u001b[0m \u001b[1m20s\u001b[0m 2ms/step - accuracy: 0.7643 - loss: 0.4882 - val_accuracy: 0.7759 - val_loss: 0.4862\n"
          ]
        },
        {
          "output_type": "display_data",
          "data": {
            "text/plain": [
              "<Figure size 640x480 with 1 Axes>"
            ],
            "image/png": "[encoded data removed]"
          },
          "metadata": {}
        }
      ]
    },
    {
      "cell_type": "markdown",
      "source": [
        "Test Accuracy of CNN model with SMOTE"
      ],
      "metadata": {
        "id": "aA9lO6Wklr24"
      }
    },
    {
      "cell_type": "code",
      "source": [
        "scores_CNN_sm = CNN_model_sm.evaluate(X_test, y_test)"
      ],
      "metadata": {
        "colab": {
          "base_uri": "https://localhost:8080/"
        },
        "id": "MvMz64GkntLU",
        "outputId": "284d5417-0b9a-4feb-aa43-285a1c94f333"
      },
      "execution_count": null,
      "outputs": [
        {
          "output_type": "stream",
          "name": "stdout",
          "text": [
            "\u001b[1m416/416\u001b[0m \u001b[32m━━━━━━━━━━━━━━━━━━━━\u001b[0m\u001b[37m\u001b[0m \u001b[1m2s\u001b[0m 3ms/step - accuracy: 0.7912 - loss: 0.4615\n"
          ]
        }
      ]
    },
    {
      "cell_type": "markdown",
      "source": [
        "F1 Score of CNN model with SMOTE"
      ],
      "metadata": {
        "id": "wQCYnbSdlwqP"
      }
    },
    {
      "cell_type": "code",
      "source": [
        "CNN_sm_pred = np.round(CNN_model_sm.predict(X_test)).astype(int)\n",
        "print(\"F1 score:\", f1_score(y_test, CNN_sm_pred))"
      ],
      "metadata": {
        "colab": {
          "base_uri": "https://localhost:8080/"
        },
        "id": "_HPMM0t_neLi",
        "outputId": "0743144f-7581-4a25-8873-ef33f5abf29a"
      },
      "execution_count": null,
      "outputs": [
        {
          "output_type": "stream",
          "name": "stdout",
          "text": [
            "\u001b[1m416/416\u001b[0m \u001b[32m━━━━━━━━━━━━━━━━━━━━\u001b[0m\u001b[37m\u001b[0m \u001b[1m1s\u001b[0m 1ms/step\n",
            "F1 score: 0.6702203269367448\n"
          ]
        }
      ]
    }
  ]
}